{
 "cells": [
  {
   "cell_type": "markdown",
   "metadata": {},
   "source": [
    "## Observations and Insights "
   ]
  },
  {
   "cell_type": "markdown",
   "metadata": {},
   "source": []
  },
  {
   "cell_type": "code",
   "execution_count": 1,
   "metadata": {},
   "outputs": [],
   "source": [
    "# Dependencies and Setup\n",
    "import matplotlib.pyplot as plt\n",
    "import pandas as pd\n",
    "import scipy.stats as st"
   ]
  },
  {
   "cell_type": "code",
   "execution_count": 2,
   "metadata": {},
   "outputs": [
    {
     "data": {
      "text/html": [
       "<div>\n",
       "<style scoped>\n",
       "    .dataframe tbody tr th:only-of-type {\n",
       "        vertical-align: middle;\n",
       "    }\n",
       "\n",
       "    .dataframe tbody tr th {\n",
       "        vertical-align: top;\n",
       "    }\n",
       "\n",
       "    .dataframe thead th {\n",
       "        text-align: right;\n",
       "    }\n",
       "</style>\n",
       "<table border=\"1\" class=\"dataframe\">\n",
       "  <thead>\n",
       "    <tr style=\"text-align: right;\">\n",
       "      <th></th>\n",
       "      <th>Mouse ID</th>\n",
       "      <th>Timepoint</th>\n",
       "      <th>Tumor Volume (mm3)</th>\n",
       "      <th>Metastatic Sites</th>\n",
       "    </tr>\n",
       "  </thead>\n",
       "  <tbody>\n",
       "    <tr>\n",
       "      <th>0</th>\n",
       "      <td>b128</td>\n",
       "      <td>0</td>\n",
       "      <td>45.0</td>\n",
       "      <td>0</td>\n",
       "    </tr>\n",
       "    <tr>\n",
       "      <th>1</th>\n",
       "      <td>f932</td>\n",
       "      <td>0</td>\n",
       "      <td>45.0</td>\n",
       "      <td>0</td>\n",
       "    </tr>\n",
       "    <tr>\n",
       "      <th>2</th>\n",
       "      <td>g107</td>\n",
       "      <td>0</td>\n",
       "      <td>45.0</td>\n",
       "      <td>0</td>\n",
       "    </tr>\n",
       "    <tr>\n",
       "      <th>3</th>\n",
       "      <td>a457</td>\n",
       "      <td>0</td>\n",
       "      <td>45.0</td>\n",
       "      <td>0</td>\n",
       "    </tr>\n",
       "    <tr>\n",
       "      <th>4</th>\n",
       "      <td>c819</td>\n",
       "      <td>0</td>\n",
       "      <td>45.0</td>\n",
       "      <td>0</td>\n",
       "    </tr>\n",
       "  </tbody>\n",
       "</table>\n",
       "</div>"
      ],
      "text/plain": [
       "  Mouse ID  Timepoint  Tumor Volume (mm3)  Metastatic Sites\n",
       "0     b128          0                45.0                 0\n",
       "1     f932          0                45.0                 0\n",
       "2     g107          0                45.0                 0\n",
       "3     a457          0                45.0                 0\n",
       "4     c819          0                45.0                 0"
      ]
     },
     "execution_count": 2,
     "metadata": {},
     "output_type": "execute_result"
    }
   ],
   "source": [
    "# Study data files\n",
    "mouse_metadata_path = \"Data/Mouse_metadata.csv\"\n",
    "study_results_path = \"Data/Study_results.csv\"\n",
    "\n",
    "# Read the mouse data and the study results\n",
    "mouse_metadata = pd.read_csv(mouse_metadata_path)\n",
    "study_results = pd.read_csv(study_results_path)\n",
    "study_results.head()"
   ]
  },
  {
   "cell_type": "code",
   "execution_count": 3,
   "metadata": {},
   "outputs": [
    {
     "data": {
      "text/plain": [
       "(1893, 8)"
      ]
     },
     "execution_count": 3,
     "metadata": {},
     "output_type": "execute_result"
    }
   ],
   "source": [
    "# Combine the data into a single dataset\n",
    "mouse_data_df = pd.merge(mouse_metadata, study_results, how = \"outer\", on = \"Mouse ID\")\n",
    "\n",
    "# Display the data table for preview\n",
    "mouse_data_df.head()\n",
    "mouse_data_df.shape"
   ]
  },
  {
   "cell_type": "code",
   "execution_count": 4,
   "metadata": {},
   "outputs": [
    {
     "data": {
      "text/plain": [
       "249"
      ]
     },
     "execution_count": 4,
     "metadata": {},
     "output_type": "execute_result"
    }
   ],
   "source": [
    "# Checking the number of mice.\n",
    "num_mice = mouse_data_df[\"Mouse ID\"].nunique()\n",
    "num_mice"
   ]
  },
  {
   "cell_type": "code",
   "execution_count": 5,
   "metadata": {},
   "outputs": [
    {
     "data": {
      "text/plain": [
       "Mouse ID               object\n",
       "Drug Regimen           object\n",
       "Sex                    object\n",
       "Age_months              int64\n",
       "Weight (g)              int64\n",
       "Timepoint               int64\n",
       "Tumor Volume (mm3)    float64\n",
       "Metastatic Sites        int64\n",
       "dtype: object"
      ]
     },
     "execution_count": 5,
     "metadata": {},
     "output_type": "execute_result"
    }
   ],
   "source": [
    "mouse_data_df.dtypes"
   ]
  },
  {
   "cell_type": "code",
   "execution_count": 6,
   "metadata": {},
   "outputs": [
    {
     "data": {
      "text/html": [
       "<div>\n",
       "<style scoped>\n",
       "    .dataframe tbody tr th:only-of-type {\n",
       "        vertical-align: middle;\n",
       "    }\n",
       "\n",
       "    .dataframe tbody tr th {\n",
       "        vertical-align: top;\n",
       "    }\n",
       "\n",
       "    .dataframe thead th {\n",
       "        text-align: right;\n",
       "    }\n",
       "</style>\n",
       "<table border=\"1\" class=\"dataframe\">\n",
       "  <thead>\n",
       "    <tr style=\"text-align: right;\">\n",
       "      <th></th>\n",
       "      <th>Mouse ID</th>\n",
       "      <th>Drug Regimen</th>\n",
       "      <th>Sex</th>\n",
       "      <th>Age_months</th>\n",
       "      <th>Weight (g)</th>\n",
       "      <th>Timepoint</th>\n",
       "      <th>Tumor Volume (mm3)</th>\n",
       "      <th>Metastatic Sites</th>\n",
       "    </tr>\n",
       "  </thead>\n",
       "  <tbody>\n",
       "    <tr>\n",
       "      <th>909</th>\n",
       "      <td>g989</td>\n",
       "      <td>Propriva</td>\n",
       "      <td>Female</td>\n",
       "      <td>21</td>\n",
       "      <td>26</td>\n",
       "      <td>0</td>\n",
       "      <td>45.000000</td>\n",
       "      <td>0</td>\n",
       "    </tr>\n",
       "    <tr>\n",
       "      <th>911</th>\n",
       "      <td>g989</td>\n",
       "      <td>Propriva</td>\n",
       "      <td>Female</td>\n",
       "      <td>21</td>\n",
       "      <td>26</td>\n",
       "      <td>5</td>\n",
       "      <td>47.570392</td>\n",
       "      <td>0</td>\n",
       "    </tr>\n",
       "    <tr>\n",
       "      <th>913</th>\n",
       "      <td>g989</td>\n",
       "      <td>Propriva</td>\n",
       "      <td>Female</td>\n",
       "      <td>21</td>\n",
       "      <td>26</td>\n",
       "      <td>10</td>\n",
       "      <td>49.880528</td>\n",
       "      <td>0</td>\n",
       "    </tr>\n",
       "    <tr>\n",
       "      <th>915</th>\n",
       "      <td>g989</td>\n",
       "      <td>Propriva</td>\n",
       "      <td>Female</td>\n",
       "      <td>21</td>\n",
       "      <td>26</td>\n",
       "      <td>15</td>\n",
       "      <td>53.442020</td>\n",
       "      <td>0</td>\n",
       "    </tr>\n",
       "    <tr>\n",
       "      <th>917</th>\n",
       "      <td>g989</td>\n",
       "      <td>Propriva</td>\n",
       "      <td>Female</td>\n",
       "      <td>21</td>\n",
       "      <td>26</td>\n",
       "      <td>20</td>\n",
       "      <td>54.657650</td>\n",
       "      <td>1</td>\n",
       "    </tr>\n",
       "  </tbody>\n",
       "</table>\n",
       "</div>"
      ],
      "text/plain": [
       "    Mouse ID Drug Regimen     Sex  Age_months  Weight (g)  Timepoint  \\\n",
       "909     g989     Propriva  Female          21          26          0   \n",
       "911     g989     Propriva  Female          21          26          5   \n",
       "913     g989     Propriva  Female          21          26         10   \n",
       "915     g989     Propriva  Female          21          26         15   \n",
       "917     g989     Propriva  Female          21          26         20   \n",
       "\n",
       "     Tumor Volume (mm3)  Metastatic Sites  \n",
       "909           45.000000                 0  \n",
       "911           47.570392                 0  \n",
       "913           49.880528                 0  \n",
       "915           53.442020                 0  \n",
       "917           54.657650                 1  "
      ]
     },
     "execution_count": 6,
     "metadata": {},
     "output_type": "execute_result"
    }
   ],
   "source": [
    "# Getting the duplicate mice by ID number that shows up for Mouse ID and Timepoint. \n",
    "# Optional: Get all the data for the duplicate mouse ID.\n",
    "# This shows me that mouse \"g989\" should be removed\n",
    "dup_mouse_data = mouse_data_df[mouse_data_df.duplicated([\"Mouse ID\", \"Timepoint\"])]\n",
    "dup_mouse_data"
   ]
  },
  {
   "cell_type": "code",
   "execution_count": 7,
   "metadata": {},
   "outputs": [
    {
     "data": {
      "text/html": [
       "<div>\n",
       "<style scoped>\n",
       "    .dataframe tbody tr th:only-of-type {\n",
       "        vertical-align: middle;\n",
       "    }\n",
       "\n",
       "    .dataframe tbody tr th {\n",
       "        vertical-align: top;\n",
       "    }\n",
       "\n",
       "    .dataframe thead th {\n",
       "        text-align: right;\n",
       "    }\n",
       "</style>\n",
       "<table border=\"1\" class=\"dataframe\">\n",
       "  <thead>\n",
       "    <tr style=\"text-align: right;\">\n",
       "      <th></th>\n",
       "      <th>Mouse ID</th>\n",
       "      <th>Drug Regimen</th>\n",
       "      <th>Sex</th>\n",
       "      <th>Age_months</th>\n",
       "      <th>Weight (g)</th>\n",
       "      <th>Timepoint</th>\n",
       "      <th>Tumor Volume (mm3)</th>\n",
       "      <th>Metastatic Sites</th>\n",
       "    </tr>\n",
       "  </thead>\n",
       "  <tbody>\n",
       "    <tr>\n",
       "      <th>0</th>\n",
       "      <td>k403</td>\n",
       "      <td>Ramicane</td>\n",
       "      <td>Male</td>\n",
       "      <td>21</td>\n",
       "      <td>16</td>\n",
       "      <td>0</td>\n",
       "      <td>45.000000</td>\n",
       "      <td>0</td>\n",
       "    </tr>\n",
       "    <tr>\n",
       "      <th>1</th>\n",
       "      <td>k403</td>\n",
       "      <td>Ramicane</td>\n",
       "      <td>Male</td>\n",
       "      <td>21</td>\n",
       "      <td>16</td>\n",
       "      <td>5</td>\n",
       "      <td>38.825898</td>\n",
       "      <td>0</td>\n",
       "    </tr>\n",
       "    <tr>\n",
       "      <th>2</th>\n",
       "      <td>k403</td>\n",
       "      <td>Ramicane</td>\n",
       "      <td>Male</td>\n",
       "      <td>21</td>\n",
       "      <td>16</td>\n",
       "      <td>10</td>\n",
       "      <td>35.014271</td>\n",
       "      <td>1</td>\n",
       "    </tr>\n",
       "    <tr>\n",
       "      <th>3</th>\n",
       "      <td>k403</td>\n",
       "      <td>Ramicane</td>\n",
       "      <td>Male</td>\n",
       "      <td>21</td>\n",
       "      <td>16</td>\n",
       "      <td>15</td>\n",
       "      <td>34.223992</td>\n",
       "      <td>1</td>\n",
       "    </tr>\n",
       "    <tr>\n",
       "      <th>4</th>\n",
       "      <td>k403</td>\n",
       "      <td>Ramicane</td>\n",
       "      <td>Male</td>\n",
       "      <td>21</td>\n",
       "      <td>16</td>\n",
       "      <td>20</td>\n",
       "      <td>32.997729</td>\n",
       "      <td>1</td>\n",
       "    </tr>\n",
       "    <tr>\n",
       "      <th>...</th>\n",
       "      <td>...</td>\n",
       "      <td>...</td>\n",
       "      <td>...</td>\n",
       "      <td>...</td>\n",
       "      <td>...</td>\n",
       "      <td>...</td>\n",
       "      <td>...</td>\n",
       "      <td>...</td>\n",
       "    </tr>\n",
       "    <tr>\n",
       "      <th>1888</th>\n",
       "      <td>z969</td>\n",
       "      <td>Naftisol</td>\n",
       "      <td>Male</td>\n",
       "      <td>9</td>\n",
       "      <td>30</td>\n",
       "      <td>25</td>\n",
       "      <td>63.145652</td>\n",
       "      <td>2</td>\n",
       "    </tr>\n",
       "    <tr>\n",
       "      <th>1889</th>\n",
       "      <td>z969</td>\n",
       "      <td>Naftisol</td>\n",
       "      <td>Male</td>\n",
       "      <td>9</td>\n",
       "      <td>30</td>\n",
       "      <td>30</td>\n",
       "      <td>65.841013</td>\n",
       "      <td>3</td>\n",
       "    </tr>\n",
       "    <tr>\n",
       "      <th>1890</th>\n",
       "      <td>z969</td>\n",
       "      <td>Naftisol</td>\n",
       "      <td>Male</td>\n",
       "      <td>9</td>\n",
       "      <td>30</td>\n",
       "      <td>35</td>\n",
       "      <td>69.176246</td>\n",
       "      <td>4</td>\n",
       "    </tr>\n",
       "    <tr>\n",
       "      <th>1891</th>\n",
       "      <td>z969</td>\n",
       "      <td>Naftisol</td>\n",
       "      <td>Male</td>\n",
       "      <td>9</td>\n",
       "      <td>30</td>\n",
       "      <td>40</td>\n",
       "      <td>70.314904</td>\n",
       "      <td>4</td>\n",
       "    </tr>\n",
       "    <tr>\n",
       "      <th>1892</th>\n",
       "      <td>z969</td>\n",
       "      <td>Naftisol</td>\n",
       "      <td>Male</td>\n",
       "      <td>9</td>\n",
       "      <td>30</td>\n",
       "      <td>45</td>\n",
       "      <td>73.867845</td>\n",
       "      <td>4</td>\n",
       "    </tr>\n",
       "  </tbody>\n",
       "</table>\n",
       "<p>1880 rows × 8 columns</p>\n",
       "</div>"
      ],
      "text/plain": [
       "     Mouse ID Drug Regimen   Sex  Age_months  Weight (g)  Timepoint  \\\n",
       "0        k403     Ramicane  Male          21          16          0   \n",
       "1        k403     Ramicane  Male          21          16          5   \n",
       "2        k403     Ramicane  Male          21          16         10   \n",
       "3        k403     Ramicane  Male          21          16         15   \n",
       "4        k403     Ramicane  Male          21          16         20   \n",
       "...       ...          ...   ...         ...         ...        ...   \n",
       "1888     z969     Naftisol  Male           9          30         25   \n",
       "1889     z969     Naftisol  Male           9          30         30   \n",
       "1890     z969     Naftisol  Male           9          30         35   \n",
       "1891     z969     Naftisol  Male           9          30         40   \n",
       "1892     z969     Naftisol  Male           9          30         45   \n",
       "\n",
       "      Tumor Volume (mm3)  Metastatic Sites  \n",
       "0              45.000000                 0  \n",
       "1              38.825898                 0  \n",
       "2              35.014271                 1  \n",
       "3              34.223992                 1  \n",
       "4              32.997729                 1  \n",
       "...                  ...               ...  \n",
       "1888           63.145652                 2  \n",
       "1889           65.841013                 3  \n",
       "1890           69.176246                 4  \n",
       "1891           70.314904                 4  \n",
       "1892           73.867845                 4  \n",
       "\n",
       "[1880 rows x 8 columns]"
      ]
     },
     "execution_count": 7,
     "metadata": {},
     "output_type": "execute_result"
    }
   ],
   "source": [
    "# Create a clean DataFrame by dropping the duplicate mouse by its ID.\n",
    "# Amount of rows in the DataFrame should have decreased\n",
    "cleaned_mouse_data = mouse_data_df[mouse_data_df[\"Mouse ID\"] != \"g989\"]\n",
    "cleaned_mouse_data"
   ]
  },
  {
   "cell_type": "code",
   "execution_count": 8,
   "metadata": {},
   "outputs": [
    {
     "data": {
      "text/plain": [
       "248"
      ]
     },
     "execution_count": 8,
     "metadata": {},
     "output_type": "execute_result"
    }
   ],
   "source": [
    "# Checking the number of mice in the clean DataFrame\n",
    "# Should be 248\n",
    "number_mice = cleaned_mouse_data[\"Mouse ID\"].nunique()\n",
    "number_mice"
   ]
  },
  {
   "cell_type": "markdown",
   "metadata": {},
   "source": [
    "## Summary Statistics"
   ]
  },
  {
   "cell_type": "code",
   "execution_count": 9,
   "metadata": {},
   "outputs": [],
   "source": [
    "# Generate a summary statistics table of mean, median, variance, standard deviation, and SEM of the tumor volume for each regimen\n",
    "\n",
    "# First calculate each of the statistics and store them to variables\n",
    "tumor_mean = cleaned_mouse_data[\"Tumor Volume (mm3)\"].mean()\n",
    "tumor_median = cleaned_mouse_data[\"Tumor Volume (mm3)\"].median()\n",
    "tumor_variance = cleaned_mouse_data[\"Tumor Volume (mm3)\"].var()\n",
    "tumor_std = cleaned_mouse_data[\"Tumor Volume (mm3)\"].std()\n",
    "tumor_sem = cleaned_mouse_data[\"Tumor Volume (mm3)\"].sem()"
   ]
  },
  {
   "cell_type": "code",
   "execution_count": 10,
   "metadata": {},
   "outputs": [
    {
     "data": {
      "text/html": [
       "<style  type=\"text/css\" >\n",
       "</style><table id=\"T_a90738b4_6701_11eb_bb29_acde48001122\" ><thead>    <tr>        <th class=\"blank level0\" ></th>        <th class=\"col_heading level0 col0\" >Mean of Tumor Volume</th>        <th class=\"col_heading level0 col1\" >Median of Tumor Volume</th>        <th class=\"col_heading level0 col2\" >Variance of Tumor Volume</th>        <th class=\"col_heading level0 col3\" >Standard Deviation of Tumor Volume</th>        <th class=\"col_heading level0 col4\" >SEM of Tumor Volume</th>    </tr></thead><tbody>\n",
       "                <tr>\n",
       "                        <th id=\"T_a90738b4_6701_11eb_bb29_acde48001122level0_row0\" class=\"row_heading level0 row0\" >0</th>\n",
       "                        <td id=\"T_a90738b4_6701_11eb_bb29_acde48001122row0_col0\" class=\"data row0 col0\" >50.44</td>\n",
       "                        <td id=\"T_a90738b4_6701_11eb_bb29_acde48001122row0_col1\" class=\"data row0 col1\" >48.93</td>\n",
       "                        <td id=\"T_a90738b4_6701_11eb_bb29_acde48001122row0_col2\" class=\"data row0 col2\" >79.46</td>\n",
       "                        <td id=\"T_a90738b4_6701_11eb_bb29_acde48001122row0_col3\" class=\"data row0 col3\" >8.91</td>\n",
       "                        <td id=\"T_a90738b4_6701_11eb_bb29_acde48001122row0_col4\" class=\"data row0 col4\" >0.21</td>\n",
       "            </tr>\n",
       "    </tbody></table>"
      ],
      "text/plain": [
       "<pandas.io.formats.style.Styler at 0x7f8cda478198>"
      ]
     },
     "execution_count": 10,
     "metadata": {},
     "output_type": "execute_result"
    }
   ],
   "source": [
    "# Generate the summary statistics table with the values that were just created\n",
    "summary_stats_table = pd.DataFrame({\"Mean of Tumor Volume\": [tumor_mean],\n",
    "                                    \"Median of Tumor Volume\": tumor_median,\n",
    "                                    \"Variance of Tumor Volume\": tumor_variance,\n",
    "                                    \"Standard Deviation of Tumor Volume\": tumor_std,\n",
    "                                    \"SEM of Tumor Volume\": tumor_sem\n",
    "                                   })\n",
    "\n",
    "# Cleaning up the formatting for the Purchasing Analysis summary table\n",
    "\n",
    "# Add in proper notation\n",
    "summary_stats_table = summary_stats_table.style.format({    \"Mean of Tumor Volume\": \"{:,.2f}\",\n",
    "                                                            \"Median of Tumor Volume\": \"{:,.2f}\",\n",
    "                                                            \"Variance of Tumor Volume\": \"{:,.2f}\",\n",
    "                                                            \"Standard Deviation of Tumor Volume\": \"{:,.2f}\",\n",
    "                                                            \"SEM of Tumor Volume\": \"{:,.2f}\"\n",
    "                                                       })\n",
    "summary_stats_table"
   ]
  },
  {
   "cell_type": "code",
   "execution_count": 11,
   "metadata": {},
   "outputs": [
    {
     "data": {
      "text/plain": [
       "<pandas.core.groupby.generic.DataFrameGroupBy object at 0x7f8cda321eb8>"
      ]
     },
     "execution_count": 11,
     "metadata": {},
     "output_type": "execute_result"
    }
   ],
   "source": [
    "# Use groupby and summary statistical methods to calculate the following properties of each drug regimen: \n",
    "# mean, median, variance, standard deviation, and SEM of the tumor volume.\n",
    "drug_groups = cleaned_mouse_data.groupby(\"Drug Regimen\")\n",
    "drug_groups"
   ]
  },
  {
   "cell_type": "code",
   "execution_count": 12,
   "metadata": {},
   "outputs": [],
   "source": [
    "# Calculate the summary values using the group just created\n",
    "grouped_tumor_mean = drug_groups[\"Tumor Volume (mm3)\"].mean()\n",
    "grouped_tumor_median = drug_groups[\"Tumor Volume (mm3)\"].median()\n",
    "grouped_tumor_variance = drug_groups[\"Tumor Volume (mm3)\"].var()\n",
    "grouped_tumor_std = drug_groups[\"Tumor Volume (mm3)\"].std()\n",
    "grouped_tumor_sem = drug_groups[\"Tumor Volume (mm3)\"].sem()"
   ]
  },
  {
   "cell_type": "code",
   "execution_count": null,
   "metadata": {},
   "outputs": [],
   "source": [
    "# Assemble the resulting series into a single summary dataframe.\n",
    "\n",
    "# COME BACK TO THIS LATER\n",
    "# MAYBE ASK IN OFFICE HOURS\n",
    "\n"
   ]
  },
  {
   "cell_type": "code",
   "execution_count": 13,
   "metadata": {},
   "outputs": [
    {
     "data": {
      "text/html": [
       "<style  type=\"text/css\" >\n",
       "</style><table id=\"T_acf718ac_6701_11eb_acb3_acde48001122\" ><thead>    <tr>        <th class=\"blank level0\" ></th>        <th class=\"col_heading level0 col0\" >Mean of Tumor Volume</th>        <th class=\"col_heading level0 col1\" >Median of Tumor Volume</th>        <th class=\"col_heading level0 col2\" >Variance of Tumor Volume</th>        <th class=\"col_heading level0 col3\" >Standard Deviation of Tumor Volume</th>        <th class=\"col_heading level0 col4\" >SEM of Tumor Volume</th>    </tr>    <tr>        <th class=\"index_name level0\" >Drug Regimen</th>        <th class=\"blank\" ></th>        <th class=\"blank\" ></th>        <th class=\"blank\" ></th>        <th class=\"blank\" ></th>        <th class=\"blank\" ></th>    </tr></thead><tbody>\n",
       "                <tr>\n",
       "                        <th id=\"T_acf718ac_6701_11eb_acb3_acde48001122level0_row0\" class=\"row_heading level0 row0\" >Capomulin</th>\n",
       "                        <td id=\"T_acf718ac_6701_11eb_acb3_acde48001122row0_col0\" class=\"data row0 col0\" >40.68</td>\n",
       "                        <td id=\"T_acf718ac_6701_11eb_acb3_acde48001122row0_col1\" class=\"data row0 col1\" >41.56</td>\n",
       "                        <td id=\"T_acf718ac_6701_11eb_acb3_acde48001122row0_col2\" class=\"data row0 col2\" >24.95</td>\n",
       "                        <td id=\"T_acf718ac_6701_11eb_acb3_acde48001122row0_col3\" class=\"data row0 col3\" >4.99</td>\n",
       "                        <td id=\"T_acf718ac_6701_11eb_acb3_acde48001122row0_col4\" class=\"data row0 col4\" >0.33</td>\n",
       "            </tr>\n",
       "            <tr>\n",
       "                        <th id=\"T_acf718ac_6701_11eb_acb3_acde48001122level0_row1\" class=\"row_heading level0 row1\" >Ceftamin</th>\n",
       "                        <td id=\"T_acf718ac_6701_11eb_acb3_acde48001122row1_col0\" class=\"data row1 col0\" >52.59</td>\n",
       "                        <td id=\"T_acf718ac_6701_11eb_acb3_acde48001122row1_col1\" class=\"data row1 col1\" >51.78</td>\n",
       "                        <td id=\"T_acf718ac_6701_11eb_acb3_acde48001122row1_col2\" class=\"data row1 col2\" >39.29</td>\n",
       "                        <td id=\"T_acf718ac_6701_11eb_acb3_acde48001122row1_col3\" class=\"data row1 col3\" >6.27</td>\n",
       "                        <td id=\"T_acf718ac_6701_11eb_acb3_acde48001122row1_col4\" class=\"data row1 col4\" >0.47</td>\n",
       "            </tr>\n",
       "            <tr>\n",
       "                        <th id=\"T_acf718ac_6701_11eb_acb3_acde48001122level0_row2\" class=\"row_heading level0 row2\" >Infubinol</th>\n",
       "                        <td id=\"T_acf718ac_6701_11eb_acb3_acde48001122row2_col0\" class=\"data row2 col0\" >52.88</td>\n",
       "                        <td id=\"T_acf718ac_6701_11eb_acb3_acde48001122row2_col1\" class=\"data row2 col1\" >51.82</td>\n",
       "                        <td id=\"T_acf718ac_6701_11eb_acb3_acde48001122row2_col2\" class=\"data row2 col2\" >43.13</td>\n",
       "                        <td id=\"T_acf718ac_6701_11eb_acb3_acde48001122row2_col3\" class=\"data row2 col3\" >6.57</td>\n",
       "                        <td id=\"T_acf718ac_6701_11eb_acb3_acde48001122row2_col4\" class=\"data row2 col4\" >0.49</td>\n",
       "            </tr>\n",
       "            <tr>\n",
       "                        <th id=\"T_acf718ac_6701_11eb_acb3_acde48001122level0_row3\" class=\"row_heading level0 row3\" >Ketapril</th>\n",
       "                        <td id=\"T_acf718ac_6701_11eb_acb3_acde48001122row3_col0\" class=\"data row3 col0\" >55.24</td>\n",
       "                        <td id=\"T_acf718ac_6701_11eb_acb3_acde48001122row3_col1\" class=\"data row3 col1\" >53.70</td>\n",
       "                        <td id=\"T_acf718ac_6701_11eb_acb3_acde48001122row3_col2\" class=\"data row3 col2\" >68.55</td>\n",
       "                        <td id=\"T_acf718ac_6701_11eb_acb3_acde48001122row3_col3\" class=\"data row3 col3\" >8.28</td>\n",
       "                        <td id=\"T_acf718ac_6701_11eb_acb3_acde48001122row3_col4\" class=\"data row3 col4\" >0.60</td>\n",
       "            </tr>\n",
       "            <tr>\n",
       "                        <th id=\"T_acf718ac_6701_11eb_acb3_acde48001122level0_row4\" class=\"row_heading level0 row4\" >Naftisol</th>\n",
       "                        <td id=\"T_acf718ac_6701_11eb_acb3_acde48001122row4_col0\" class=\"data row4 col0\" >54.33</td>\n",
       "                        <td id=\"T_acf718ac_6701_11eb_acb3_acde48001122row4_col1\" class=\"data row4 col1\" >52.51</td>\n",
       "                        <td id=\"T_acf718ac_6701_11eb_acb3_acde48001122row4_col2\" class=\"data row4 col2\" >66.17</td>\n",
       "                        <td id=\"T_acf718ac_6701_11eb_acb3_acde48001122row4_col3\" class=\"data row4 col3\" >8.13</td>\n",
       "                        <td id=\"T_acf718ac_6701_11eb_acb3_acde48001122row4_col4\" class=\"data row4 col4\" >0.60</td>\n",
       "            </tr>\n",
       "            <tr>\n",
       "                        <th id=\"T_acf718ac_6701_11eb_acb3_acde48001122level0_row5\" class=\"row_heading level0 row5\" >Placebo</th>\n",
       "                        <td id=\"T_acf718ac_6701_11eb_acb3_acde48001122row5_col0\" class=\"data row5 col0\" >54.03</td>\n",
       "                        <td id=\"T_acf718ac_6701_11eb_acb3_acde48001122row5_col1\" class=\"data row5 col1\" >52.29</td>\n",
       "                        <td id=\"T_acf718ac_6701_11eb_acb3_acde48001122row5_col2\" class=\"data row5 col2\" >61.17</td>\n",
       "                        <td id=\"T_acf718ac_6701_11eb_acb3_acde48001122row5_col3\" class=\"data row5 col3\" >7.82</td>\n",
       "                        <td id=\"T_acf718ac_6701_11eb_acb3_acde48001122row5_col4\" class=\"data row5 col4\" >0.58</td>\n",
       "            </tr>\n",
       "            <tr>\n",
       "                        <th id=\"T_acf718ac_6701_11eb_acb3_acde48001122level0_row6\" class=\"row_heading level0 row6\" >Propriva</th>\n",
       "                        <td id=\"T_acf718ac_6701_11eb_acb3_acde48001122row6_col0\" class=\"data row6 col0\" >52.32</td>\n",
       "                        <td id=\"T_acf718ac_6701_11eb_acb3_acde48001122row6_col1\" class=\"data row6 col1\" >50.45</td>\n",
       "                        <td id=\"T_acf718ac_6701_11eb_acb3_acde48001122row6_col2\" class=\"data row6 col2\" >43.85</td>\n",
       "                        <td id=\"T_acf718ac_6701_11eb_acb3_acde48001122row6_col3\" class=\"data row6 col3\" >6.62</td>\n",
       "                        <td id=\"T_acf718ac_6701_11eb_acb3_acde48001122row6_col4\" class=\"data row6 col4\" >0.54</td>\n",
       "            </tr>\n",
       "            <tr>\n",
       "                        <th id=\"T_acf718ac_6701_11eb_acb3_acde48001122level0_row7\" class=\"row_heading level0 row7\" >Ramicane</th>\n",
       "                        <td id=\"T_acf718ac_6701_11eb_acb3_acde48001122row7_col0\" class=\"data row7 col0\" >40.22</td>\n",
       "                        <td id=\"T_acf718ac_6701_11eb_acb3_acde48001122row7_col1\" class=\"data row7 col1\" >40.67</td>\n",
       "                        <td id=\"T_acf718ac_6701_11eb_acb3_acde48001122row7_col2\" class=\"data row7 col2\" >23.49</td>\n",
       "                        <td id=\"T_acf718ac_6701_11eb_acb3_acde48001122row7_col3\" class=\"data row7 col3\" >4.85</td>\n",
       "                        <td id=\"T_acf718ac_6701_11eb_acb3_acde48001122row7_col4\" class=\"data row7 col4\" >0.32</td>\n",
       "            </tr>\n",
       "            <tr>\n",
       "                        <th id=\"T_acf718ac_6701_11eb_acb3_acde48001122level0_row8\" class=\"row_heading level0 row8\" >Stelasyn</th>\n",
       "                        <td id=\"T_acf718ac_6701_11eb_acb3_acde48001122row8_col0\" class=\"data row8 col0\" >54.23</td>\n",
       "                        <td id=\"T_acf718ac_6701_11eb_acb3_acde48001122row8_col1\" class=\"data row8 col1\" >52.43</td>\n",
       "                        <td id=\"T_acf718ac_6701_11eb_acb3_acde48001122row8_col2\" class=\"data row8 col2\" >59.45</td>\n",
       "                        <td id=\"T_acf718ac_6701_11eb_acb3_acde48001122row8_col3\" class=\"data row8 col3\" >7.71</td>\n",
       "                        <td id=\"T_acf718ac_6701_11eb_acb3_acde48001122row8_col4\" class=\"data row8 col4\" >0.57</td>\n",
       "            </tr>\n",
       "            <tr>\n",
       "                        <th id=\"T_acf718ac_6701_11eb_acb3_acde48001122level0_row9\" class=\"row_heading level0 row9\" >Zoniferol</th>\n",
       "                        <td id=\"T_acf718ac_6701_11eb_acb3_acde48001122row9_col0\" class=\"data row9 col0\" >53.24</td>\n",
       "                        <td id=\"T_acf718ac_6701_11eb_acb3_acde48001122row9_col1\" class=\"data row9 col1\" >51.82</td>\n",
       "                        <td id=\"T_acf718ac_6701_11eb_acb3_acde48001122row9_col2\" class=\"data row9 col2\" >48.53</td>\n",
       "                        <td id=\"T_acf718ac_6701_11eb_acb3_acde48001122row9_col3\" class=\"data row9 col3\" >6.97</td>\n",
       "                        <td id=\"T_acf718ac_6701_11eb_acb3_acde48001122row9_col4\" class=\"data row9 col4\" >0.52</td>\n",
       "            </tr>\n",
       "    </tbody></table>"
      ],
      "text/plain": [
       "<pandas.io.formats.style.Styler at 0x7f8cda824ac8>"
      ]
     },
     "execution_count": 13,
     "metadata": {},
     "output_type": "execute_result"
    }
   ],
   "source": [
    "# Generate a summary statistics table of mean, median, variance, standard deviation, and SEM of the tumor volume for each regimen\n",
    "drug_summary_table = pd.DataFrame({ \"Mean of Tumor Volume\": grouped_tumor_mean,\n",
    "                                    \"Median of Tumor Volume\": grouped_tumor_median,\n",
    "                                    \"Variance of Tumor Volume\": grouped_tumor_variance,\n",
    "                                    \"Standard Deviation of Tumor Volume\": grouped_tumor_std,\n",
    "                                    \"SEM of Tumor Volume\": grouped_tumor_sem\n",
    "                                  })\n",
    "\n",
    "# Add in proper notation\n",
    "drug_summary_table = drug_summary_table.style.format({  \"Mean of Tumor Volume\": \"{:,.2f}\",\n",
    "                                                        \"Median of Tumor Volume\": \"{:,.2f}\",\n",
    "                                                        \"Variance of Tumor Volume\": \"{:,.2f}\",\n",
    "                                                        \"Standard Deviation of Tumor Volume\": \"{:,.2f}\",\n",
    "                                                        \"SEM of Tumor Volume\": \"{:,.2f}\"\n",
    "                                                     })\n",
    "drug_summary_table"
   ]
  },
  {
   "cell_type": "code",
   "execution_count": null,
   "metadata": {},
   "outputs": [],
   "source": [
    "# Using the aggregation method, produce the same summary statistics in a single line\n",
    "\n",
    "\n",
    "# COME BACK TO THIS LATER\n",
    "# MAYBE ASK IN OFFICE HOURS\n",
    "\n"
   ]
  },
  {
   "cell_type": "markdown",
   "metadata": {},
   "source": [
    "## Bar and Pie Charts"
   ]
  },
  {
   "cell_type": "code",
   "execution_count": 26,
   "metadata": {},
   "outputs": [
    {
     "data": {
      "text/plain": [
       "array(['Ramicane', 'Capomulin', 'Infubinol', 'Placebo', 'Ceftamin',\n",
       "       'Stelasyn', 'Zoniferol', 'Ketapril', 'Propriva', 'Naftisol'],\n",
       "      dtype=object)"
      ]
     },
     "execution_count": 26,
     "metadata": {},
     "output_type": "execute_result"
    }
   ],
   "source": [
    "# Get the names of all of the different drug regimens to be used in the x axis\n",
    "drug_regimens = cleaned_mouse_data[\"Drug Regimen\"].unique()\n",
    "drug_regimens"
   ]
  },
  {
   "cell_type": "code",
   "execution_count": 29,
   "metadata": {},
   "outputs": [
    {
     "data": {
      "text/plain": [
       "<matplotlib.axes._subplots.AxesSubplot at 0x7f8cda9aac50>"
      ]
     },
     "execution_count": 29,
     "metadata": {},
     "output_type": "execute_result"
    },
    {
     "data": {
      "image/png": "[encoded data removed]",
      "text/plain": [
       "<Figure size 432x288 with 1 Axes>"
      ]
     },
     "metadata": {
      "needs_background": "light"
     },
     "output_type": "display_data"
    }
   ],
   "source": [
    "# Generate a bar plot showing the total number of measurements taken on each drug regimen using pandas.\n",
    "drug_counts = drug_groups[\"Mouse ID\"].count()\n",
    "drug_counts\n",
    "\n",
    "# Give the data frames the values and proper labels using the pandas functionality\n",
    "pandas_regimen_data = pd.DataFrame({\"Drug Regimen\": drug_regimens, \"Times Used\": drug_counts})\n",
    " \n",
    "\n",
    "# Create the chart using the pandas functionality\n",
    "pandas_regimen_barchart = pandas_regimen_data.plot.bar(x= \"Drug Regimen\", y= \"Times Used\", rot=45)\n",
    "pandas_regimen_barchart"
   ]
  },
  {
   "cell_type": "code",
   "execution_count": null,
   "metadata": {},
   "outputs": [],
   "source": [
    "# Generate a bar plot showing the total number of measurements taken on each drug regimen using pyplot.\n",
    "\n"
   ]
  },
  {
   "cell_type": "code",
   "execution_count": null,
   "metadata": {},
   "outputs": [],
   "source": [
    "# Generate a pie plot showing the distribution of female versus male mice using pandas\n",
    "\n"
   ]
  },
  {
   "cell_type": "code",
   "execution_count": null,
   "metadata": {},
   "outputs": [],
   "source": [
    "# Generate a pie plot showing the distribution of female versus male mice using pyplot\n",
    "\n"
   ]
  },
  {
   "cell_type": "markdown",
   "metadata": {},
   "source": [
    "## Quartiles, Outliers and Boxplots"
   ]
  },
  {
   "cell_type": "code",
   "execution_count": null,
   "metadata": {},
   "outputs": [],
   "source": [
    "# Calculate the final tumor volume of each mouse across four of the treatment regimens:  \n",
    "# Capomulin, Ramicane, Infubinol, and Ceftamin\n",
    "\n",
    "# Start by getting the last (greatest) timepoint for each mouse\n",
    "\n",
    "\n",
    "# Merge this group df with the original dataframe to get the tumor volume at the last timepoint\n"
   ]
  },
  {
   "cell_type": "code",
   "execution_count": null,
   "metadata": {},
   "outputs": [],
   "source": [
    "# Put treatments into a list for for loop (and later for plot labels)\n",
    "\n",
    "\n",
    "# Create empty list to fill with tumor vol data (for plotting)\n",
    "\n",
    "\n",
    "# Calculate the IQR and quantitatively determine if there are any potential outliers. \n",
    "\n",
    "    \n",
    "    # Locate the rows which contain mice on each drug and get the tumor volumes\n",
    "    \n",
    "    \n",
    "    # add subset \n",
    "    \n",
    "    \n",
    "    # Determine outliers using upper and lower bounds\n",
    "    "
   ]
  },
  {
   "cell_type": "code",
   "execution_count": null,
   "metadata": {},
   "outputs": [],
   "source": [
    "# Generate a box plot of the final tumor volume of each mouse across four regimens of interest\n"
   ]
  },
  {
   "cell_type": "markdown",
   "metadata": {},
   "source": [
    "## Line and Scatter Plots"
   ]
  },
  {
   "cell_type": "code",
   "execution_count": null,
   "metadata": {},
   "outputs": [],
   "source": [
    "# Generate a line plot of tumor volume vs. time point for a mouse treated with Capomulin\n"
   ]
  },
  {
   "cell_type": "code",
   "execution_count": null,
   "metadata": {},
   "outputs": [],
   "source": [
    "# Generate a scatter plot of average tumor volume vs. mouse weight for the Capomulin regimen\n"
   ]
  },
  {
   "cell_type": "markdown",
   "metadata": {},
   "source": [
    "## Correlation and Regression"
   ]
  },
  {
   "cell_type": "code",
   "execution_count": null,
   "metadata": {},
   "outputs": [],
   "source": [
    "# Calculate the correlation coefficient and linear regression model \n",
    "# for mouse weight and average tumor volume for the Capomulin regimen\n"
   ]
  },
  {
   "cell_type": "code",
   "execution_count": null,
   "metadata": {},
   "outputs": [],
   "source": []
  }
 ],
 "metadata": {
  "anaconda-cloud": {},
  "kernelspec": {
   "display_name": "Python 3",
   "language": "python",
   "name": "python3"
  },
  "language_info": {
   "codemirror_mode": {
    "name": "ipython",
    "version": 3
   },
   "file_extension": ".py",
   "mimetype": "text/x-python",
   "name": "python",
   "nbconvert_exporter": "python",
   "pygments_lexer": "ipython3",
   "version": "3.6.10"
  }
 },
 "nbformat": 4,
 "nbformat_minor": 4
}
