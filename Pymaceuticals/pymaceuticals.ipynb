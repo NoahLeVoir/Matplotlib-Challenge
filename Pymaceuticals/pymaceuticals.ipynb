{
 "cells": [
  {
   "cell_type": "markdown",
   "metadata": {},
   "source": [
    "## Observations and Insights "
   ]
  },
  {
   "cell_type": "markdown",
   "metadata": {},
   "source": [
    "## 1.\n",
    "The boxplot graph shows that the data collected on the mice is very reliable as only one of the top four drugs picked out in this assignment has an outlier."
   ]
  },
  {
   "cell_type": "markdown",
   "metadata": {},
   "source": [
    "## 2.\n",
    "The r squared value of .708 tells me that there is a high correlation between the weight of the mice tested and the average volume of their tumors. The regression line also shows a positive correlation between the heavier a mouse is, and the liklihood of larger recorded average tumor volumes."
   ]
  },
  {
   "cell_type": "markdown",
   "metadata": {},
   "source": [
    "## 3.\n",
    "While Ramicane has the lower median for tumor volume, the box plot shows that Capomulin has a smaller IQR box and similar length whiskers, leading to the conclusion that the data for Capomulin has less dispersion. This is likely why the focus of the assignment turns to further analyzing Capomulin instead of Ramicane."
   ]
  },
  {
   "cell_type": "markdown",
   "metadata": {},
   "source": [
    "### Instructions\n",
    "- Before beginning the analysis, check the data for any mouse ID with duplicate time points and remove any data associated with that mouse ID.\n",
    "- Use the cleaned data for the remaining steps."
   ]
  },
  {
   "cell_type": "code",
   "execution_count": 1,
   "metadata": {},
   "outputs": [],
   "source": [
    "# Dependencies and Setup\n",
    "import matplotlib.pyplot as plt\n",
    "import pandas as pd\n",
    "import scipy.stats as st\n",
    "import numpy as np"
   ]
  },
  {
   "cell_type": "code",
   "execution_count": 2,
   "metadata": {},
   "outputs": [
    {
     "data": {
      "text/html": [
       "<div>\n",
       "<style scoped>\n",
       "    .dataframe tbody tr th:only-of-type {\n",
       "        vertical-align: middle;\n",
       "    }\n",
       "\n",
       "    .dataframe tbody tr th {\n",
       "        vertical-align: top;\n",
       "    }\n",
       "\n",
       "    .dataframe thead th {\n",
       "        text-align: right;\n",
       "    }\n",
       "</style>\n",
       "<table border=\"1\" class=\"dataframe\">\n",
       "  <thead>\n",
       "    <tr style=\"text-align: right;\">\n",
       "      <th></th>\n",
       "      <th>Mouse ID</th>\n",
       "      <th>Timepoint</th>\n",
       "      <th>Tumor Volume (mm3)</th>\n",
       "      <th>Metastatic Sites</th>\n",
       "    </tr>\n",
       "  </thead>\n",
       "  <tbody>\n",
       "    <tr>\n",
       "      <th>0</th>\n",
       "      <td>b128</td>\n",
       "      <td>0</td>\n",
       "      <td>45.0</td>\n",
       "      <td>0</td>\n",
       "    </tr>\n",
       "    <tr>\n",
       "      <th>1</th>\n",
       "      <td>f932</td>\n",
       "      <td>0</td>\n",
       "      <td>45.0</td>\n",
       "      <td>0</td>\n",
       "    </tr>\n",
       "    <tr>\n",
       "      <th>2</th>\n",
       "      <td>g107</td>\n",
       "      <td>0</td>\n",
       "      <td>45.0</td>\n",
       "      <td>0</td>\n",
       "    </tr>\n",
       "    <tr>\n",
       "      <th>3</th>\n",
       "      <td>a457</td>\n",
       "      <td>0</td>\n",
       "      <td>45.0</td>\n",
       "      <td>0</td>\n",
       "    </tr>\n",
       "    <tr>\n",
       "      <th>4</th>\n",
       "      <td>c819</td>\n",
       "      <td>0</td>\n",
       "      <td>45.0</td>\n",
       "      <td>0</td>\n",
       "    </tr>\n",
       "  </tbody>\n",
       "</table>\n",
       "</div>"
      ],
      "text/plain": [
       "  Mouse ID  Timepoint  Tumor Volume (mm3)  Metastatic Sites\n",
       "0     b128          0                45.0                 0\n",
       "1     f932          0                45.0                 0\n",
       "2     g107          0                45.0                 0\n",
       "3     a457          0                45.0                 0\n",
       "4     c819          0                45.0                 0"
      ]
     },
     "execution_count": 2,
     "metadata": {},
     "output_type": "execute_result"
    }
   ],
   "source": [
    "# Create a path for the study data files that were provided for the homework\n",
    "mouse_metadata_path = \"Data/Mouse_metadata.csv\"\n",
    "study_results_path = \"Data/Study_results.csv\"\n",
    "\n",
    "# Read the mouse data and the study results\n",
    "mouse_metadata = pd.read_csv(mouse_metadata_path)\n",
    "study_results = pd.read_csv(study_results_path)\n",
    "mouse_metadata.head()\n",
    "study_results.head()"
   ]
  },
  {
   "cell_type": "code",
   "execution_count": 3,
   "metadata": {},
   "outputs": [
    {
     "data": {
      "text/plain": [
       "(1893, 8)"
      ]
     },
     "execution_count": 3,
     "metadata": {},
     "output_type": "execute_result"
    }
   ],
   "source": [
    "# Combine each dataset into a single dataset\n",
    "# Use pandas merge functionality, on mutual column \"Mouse ID\"\n",
    "mouse_data_df = pd.merge(mouse_metadata, study_results, how = \"outer\", on = \"Mouse ID\")\n",
    "\n",
    "# Display the data table for preview\n",
    "mouse_data_df.head()\n",
    "mouse_data_df.shape"
   ]
  },
  {
   "cell_type": "code",
   "execution_count": 4,
   "metadata": {},
   "outputs": [
    {
     "data": {
      "text/plain": [
       "249"
      ]
     },
     "execution_count": 4,
     "metadata": {},
     "output_type": "execute_result"
    }
   ],
   "source": [
    "# Checking the number of mice.\n",
    "num_mice = mouse_data_df[\"Mouse ID\"].nunique()\n",
    "num_mice"
   ]
  },
  {
   "cell_type": "code",
   "execution_count": 5,
   "metadata": {},
   "outputs": [
    {
     "data": {
      "text/html": [
       "<div>\n",
       "<style scoped>\n",
       "    .dataframe tbody tr th:only-of-type {\n",
       "        vertical-align: middle;\n",
       "    }\n",
       "\n",
       "    .dataframe tbody tr th {\n",
       "        vertical-align: top;\n",
       "    }\n",
       "\n",
       "    .dataframe thead th {\n",
       "        text-align: right;\n",
       "    }\n",
       "</style>\n",
       "<table border=\"1\" class=\"dataframe\">\n",
       "  <thead>\n",
       "    <tr style=\"text-align: right;\">\n",
       "      <th></th>\n",
       "      <th>Mouse ID</th>\n",
       "      <th>Drug Regimen</th>\n",
       "      <th>Sex</th>\n",
       "      <th>Age_months</th>\n",
       "      <th>Weight (g)</th>\n",
       "      <th>Timepoint</th>\n",
       "      <th>Tumor Volume (mm3)</th>\n",
       "      <th>Metastatic Sites</th>\n",
       "    </tr>\n",
       "  </thead>\n",
       "  <tbody>\n",
       "    <tr>\n",
       "      <th>909</th>\n",
       "      <td>g989</td>\n",
       "      <td>Propriva</td>\n",
       "      <td>Female</td>\n",
       "      <td>21</td>\n",
       "      <td>26</td>\n",
       "      <td>0</td>\n",
       "      <td>45.000000</td>\n",
       "      <td>0</td>\n",
       "    </tr>\n",
       "    <tr>\n",
       "      <th>911</th>\n",
       "      <td>g989</td>\n",
       "      <td>Propriva</td>\n",
       "      <td>Female</td>\n",
       "      <td>21</td>\n",
       "      <td>26</td>\n",
       "      <td>5</td>\n",
       "      <td>47.570392</td>\n",
       "      <td>0</td>\n",
       "    </tr>\n",
       "    <tr>\n",
       "      <th>913</th>\n",
       "      <td>g989</td>\n",
       "      <td>Propriva</td>\n",
       "      <td>Female</td>\n",
       "      <td>21</td>\n",
       "      <td>26</td>\n",
       "      <td>10</td>\n",
       "      <td>49.880528</td>\n",
       "      <td>0</td>\n",
       "    </tr>\n",
       "    <tr>\n",
       "      <th>915</th>\n",
       "      <td>g989</td>\n",
       "      <td>Propriva</td>\n",
       "      <td>Female</td>\n",
       "      <td>21</td>\n",
       "      <td>26</td>\n",
       "      <td>15</td>\n",
       "      <td>53.442020</td>\n",
       "      <td>0</td>\n",
       "    </tr>\n",
       "    <tr>\n",
       "      <th>917</th>\n",
       "      <td>g989</td>\n",
       "      <td>Propriva</td>\n",
       "      <td>Female</td>\n",
       "      <td>21</td>\n",
       "      <td>26</td>\n",
       "      <td>20</td>\n",
       "      <td>54.657650</td>\n",
       "      <td>1</td>\n",
       "    </tr>\n",
       "  </tbody>\n",
       "</table>\n",
       "</div>"
      ],
      "text/plain": [
       "    Mouse ID Drug Regimen     Sex  Age_months  Weight (g)  Timepoint  \\\n",
       "909     g989     Propriva  Female          21          26          0   \n",
       "911     g989     Propriva  Female          21          26          5   \n",
       "913     g989     Propriva  Female          21          26         10   \n",
       "915     g989     Propriva  Female          21          26         15   \n",
       "917     g989     Propriva  Female          21          26         20   \n",
       "\n",
       "     Tumor Volume (mm3)  Metastatic Sites  \n",
       "909           45.000000                 0  \n",
       "911           47.570392                 0  \n",
       "913           49.880528                 0  \n",
       "915           53.442020                 0  \n",
       "917           54.657650                 1  "
      ]
     },
     "execution_count": 5,
     "metadata": {},
     "output_type": "execute_result"
    }
   ],
   "source": [
    "# Getting the duplicate mice by ID number that shows up for Mouse ID and Timepoint. \n",
    "# Optional: Get all the data for the duplicate mouse ID.\n",
    "\n",
    "# This shows me that mouse \"g989\" should be removed\n",
    "dup_mouse_data = mouse_data_df[mouse_data_df.duplicated([\"Mouse ID\", \"Timepoint\"])]\n",
    "dup_mouse_data"
   ]
  },
  {
   "cell_type": "code",
   "execution_count": 6,
   "metadata": {},
   "outputs": [
    {
     "data": {
      "text/html": [
       "<div>\n",
       "<style scoped>\n",
       "    .dataframe tbody tr th:only-of-type {\n",
       "        vertical-align: middle;\n",
       "    }\n",
       "\n",
       "    .dataframe tbody tr th {\n",
       "        vertical-align: top;\n",
       "    }\n",
       "\n",
       "    .dataframe thead th {\n",
       "        text-align: right;\n",
       "    }\n",
       "</style>\n",
       "<table border=\"1\" class=\"dataframe\">\n",
       "  <thead>\n",
       "    <tr style=\"text-align: right;\">\n",
       "      <th></th>\n",
       "      <th>Mouse ID</th>\n",
       "      <th>Drug Regimen</th>\n",
       "      <th>Sex</th>\n",
       "      <th>Age_months</th>\n",
       "      <th>Weight (g)</th>\n",
       "      <th>Timepoint</th>\n",
       "      <th>Tumor Volume (mm3)</th>\n",
       "      <th>Metastatic Sites</th>\n",
       "    </tr>\n",
       "  </thead>\n",
       "  <tbody>\n",
       "    <tr>\n",
       "      <th>0</th>\n",
       "      <td>k403</td>\n",
       "      <td>Ramicane</td>\n",
       "      <td>Male</td>\n",
       "      <td>21</td>\n",
       "      <td>16</td>\n",
       "      <td>0</td>\n",
       "      <td>45.000000</td>\n",
       "      <td>0</td>\n",
       "    </tr>\n",
       "    <tr>\n",
       "      <th>1</th>\n",
       "      <td>k403</td>\n",
       "      <td>Ramicane</td>\n",
       "      <td>Male</td>\n",
       "      <td>21</td>\n",
       "      <td>16</td>\n",
       "      <td>5</td>\n",
       "      <td>38.825898</td>\n",
       "      <td>0</td>\n",
       "    </tr>\n",
       "    <tr>\n",
       "      <th>2</th>\n",
       "      <td>k403</td>\n",
       "      <td>Ramicane</td>\n",
       "      <td>Male</td>\n",
       "      <td>21</td>\n",
       "      <td>16</td>\n",
       "      <td>10</td>\n",
       "      <td>35.014271</td>\n",
       "      <td>1</td>\n",
       "    </tr>\n",
       "    <tr>\n",
       "      <th>3</th>\n",
       "      <td>k403</td>\n",
       "      <td>Ramicane</td>\n",
       "      <td>Male</td>\n",
       "      <td>21</td>\n",
       "      <td>16</td>\n",
       "      <td>15</td>\n",
       "      <td>34.223992</td>\n",
       "      <td>1</td>\n",
       "    </tr>\n",
       "    <tr>\n",
       "      <th>4</th>\n",
       "      <td>k403</td>\n",
       "      <td>Ramicane</td>\n",
       "      <td>Male</td>\n",
       "      <td>21</td>\n",
       "      <td>16</td>\n",
       "      <td>20</td>\n",
       "      <td>32.997729</td>\n",
       "      <td>1</td>\n",
       "    </tr>\n",
       "  </tbody>\n",
       "</table>\n",
       "</div>"
      ],
      "text/plain": [
       "  Mouse ID Drug Regimen   Sex  Age_months  Weight (g)  Timepoint  \\\n",
       "0     k403     Ramicane  Male          21          16          0   \n",
       "1     k403     Ramicane  Male          21          16          5   \n",
       "2     k403     Ramicane  Male          21          16         10   \n",
       "3     k403     Ramicane  Male          21          16         15   \n",
       "4     k403     Ramicane  Male          21          16         20   \n",
       "\n",
       "   Tumor Volume (mm3)  Metastatic Sites  \n",
       "0           45.000000                 0  \n",
       "1           38.825898                 0  \n",
       "2           35.014271                 1  \n",
       "3           34.223992                 1  \n",
       "4           32.997729                 1  "
      ]
     },
     "execution_count": 6,
     "metadata": {},
     "output_type": "execute_result"
    }
   ],
   "source": [
    "# Create a clean DataFrame by dropping the duplicate mouse by its ID.\n",
    "cleaned_mouse_data = mouse_data_df[mouse_data_df[\"Mouse ID\"] != \"g989\"]\n",
    "cleaned_mouse_data.head()"
   ]
  },
  {
   "cell_type": "code",
   "execution_count": 7,
   "metadata": {},
   "outputs": [
    {
     "name": "stdout",
     "output_type": "stream",
     "text": [
      "248\n",
      "(1880, 8)\n"
     ]
    }
   ],
   "source": [
    "# Checking the number of mice in the clean DataFrame\n",
    "# Should be 248\n",
    "number_mice = cleaned_mouse_data[\"Mouse ID\"].nunique()\n",
    "print(number_mice)\n",
    "\n",
    "# Amount of rows in the DataFrame should have decreased\n",
    "# Compare the .shape from original mouse_data_df\n",
    "print(cleaned_mouse_data.shape)"
   ]
  },
  {
   "cell_type": "markdown",
   "metadata": {},
   "source": [
    "## Summary Statistics"
   ]
  },
  {
   "cell_type": "markdown",
   "metadata": {},
   "source": [
    "### Instructions\n",
    "Generate a summary statistics table consisting of the mean, median, variance, standard deviation, and SEM of the tumor volume for each drug regimen."
   ]
  },
  {
   "cell_type": "code",
   "execution_count": 8,
   "metadata": {},
   "outputs": [],
   "source": [
    "# Generate a summary statistics table of mean, median, variance, standard deviation, and SEM of the tumor volume for each regimen\n",
    "\n",
    "# First calculate each of the statistics and store them to variables\n",
    "tumor_mean = cleaned_mouse_data[\"Tumor Volume (mm3)\"].mean()\n",
    "tumor_median = cleaned_mouse_data[\"Tumor Volume (mm3)\"].median()\n",
    "tumor_variance = cleaned_mouse_data[\"Tumor Volume (mm3)\"].var()\n",
    "tumor_std = cleaned_mouse_data[\"Tumor Volume (mm3)\"].std()\n",
    "tumor_sem = cleaned_mouse_data[\"Tumor Volume (mm3)\"].sem()"
   ]
  },
  {
   "cell_type": "code",
   "execution_count": 9,
   "metadata": {},
   "outputs": [
    {
     "data": {
      "text/html": [
       "<div>\n",
       "<style scoped>\n",
       "    .dataframe tbody tr th:only-of-type {\n",
       "        vertical-align: middle;\n",
       "    }\n",
       "\n",
       "    .dataframe tbody tr th {\n",
       "        vertical-align: top;\n",
       "    }\n",
       "\n",
       "    .dataframe thead th {\n",
       "        text-align: right;\n",
       "    }\n",
       "</style>\n",
       "<table border=\"1\" class=\"dataframe\">\n",
       "  <thead>\n",
       "    <tr style=\"text-align: right;\">\n",
       "      <th></th>\n",
       "      <th>Mean of Tumor Volume</th>\n",
       "      <th>Median of Tumor Volume</th>\n",
       "      <th>Variance of Tumor Volume</th>\n",
       "      <th>Standard Deviation of Tumor Volume</th>\n",
       "      <th>SEM of Tumor Volume</th>\n",
       "    </tr>\n",
       "  </thead>\n",
       "  <tbody>\n",
       "    <tr>\n",
       "      <th>0</th>\n",
       "      <td>50.435293</td>\n",
       "      <td>48.933454</td>\n",
       "      <td>79.462907</td>\n",
       "      <td>8.914197</td>\n",
       "      <td>0.205591</td>\n",
       "    </tr>\n",
       "  </tbody>\n",
       "</table>\n",
       "</div>"
      ],
      "text/plain": [
       "   Mean of Tumor Volume  Median of Tumor Volume  Variance of Tumor Volume  \\\n",
       "0             50.435293               48.933454                 79.462907   \n",
       "\n",
       "   Standard Deviation of Tumor Volume  SEM of Tumor Volume  \n",
       "0                            8.914197             0.205591  "
      ]
     },
     "execution_count": 9,
     "metadata": {},
     "output_type": "execute_result"
    }
   ],
   "source": [
    "# Generate the summary statistics table with the values that were just created\n",
    "summary_stats_table = pd.DataFrame({\"Mean of Tumor Volume\": [tumor_mean],\n",
    "                                    \"Median of Tumor Volume\": tumor_median,\n",
    "                                    \"Variance of Tumor Volume\": tumor_variance,\n",
    "                                    \"Standard Deviation of Tumor Volume\": tumor_std,\n",
    "                                    \"SEM of Tumor Volume\": tumor_sem\n",
    "                                   })\n",
    "\n",
    "summary_stats_table"
   ]
  },
  {
   "cell_type": "code",
   "execution_count": 10,
   "metadata": {},
   "outputs": [
    {
     "data": {
      "text/plain": [
       "<pandas.core.groupby.generic.DataFrameGroupBy object at 0x7ffcf1511400>"
      ]
     },
     "execution_count": 10,
     "metadata": {},
     "output_type": "execute_result"
    }
   ],
   "source": [
    "# Use groupby and summary statistical methods to calculate the following properties of each drug regimen: \n",
    "# mean, median, variance, standard deviation, and SEM of the tumor volume.\n",
    "drug_groups = cleaned_mouse_data.groupby(\"Drug Regimen\")\n",
    "drug_groups"
   ]
  },
  {
   "cell_type": "code",
   "execution_count": 11,
   "metadata": {},
   "outputs": [],
   "source": [
    "# Calculate the summary values using the group just created\n",
    "grouped_tumor_mean = drug_groups[\"Tumor Volume (mm3)\"].mean()\n",
    "grouped_tumor_median = drug_groups[\"Tumor Volume (mm3)\"].median()\n",
    "grouped_tumor_variance = drug_groups[\"Tumor Volume (mm3)\"].var()\n",
    "grouped_tumor_std = drug_groups[\"Tumor Volume (mm3)\"].std()\n",
    "grouped_tumor_sem = drug_groups[\"Tumor Volume (mm3)\"].sem()"
   ]
  },
  {
   "cell_type": "code",
   "execution_count": 12,
   "metadata": {},
   "outputs": [
    {
     "data": {
      "text/html": [
       "<style  type=\"text/css\" >\n",
       "</style><table id=\"T_9fe7d106_68b6_11eb_b799_acde48001122\" ><thead>    <tr>        <th class=\"blank level0\" ></th>        <th class=\"col_heading level0 col0\" >Mean of Tumor Volume</th>        <th class=\"col_heading level0 col1\" >Median of Tumor Volume</th>        <th class=\"col_heading level0 col2\" >Variance of Tumor Volume</th>        <th class=\"col_heading level0 col3\" >Standard Deviation of Tumor Volume</th>        <th class=\"col_heading level0 col4\" >SEM of Tumor Volume</th>    </tr>    <tr>        <th class=\"index_name level0\" >Drug Regimen</th>        <th class=\"blank\" ></th>        <th class=\"blank\" ></th>        <th class=\"blank\" ></th>        <th class=\"blank\" ></th>        <th class=\"blank\" ></th>    </tr></thead><tbody>\n",
       "                <tr>\n",
       "                        <th id=\"T_9fe7d106_68b6_11eb_b799_acde48001122level0_row0\" class=\"row_heading level0 row0\" >Capomulin</th>\n",
       "                        <td id=\"T_9fe7d106_68b6_11eb_b799_acde48001122row0_col0\" class=\"data row0 col0\" >40.68</td>\n",
       "                        <td id=\"T_9fe7d106_68b6_11eb_b799_acde48001122row0_col1\" class=\"data row0 col1\" >41.56</td>\n",
       "                        <td id=\"T_9fe7d106_68b6_11eb_b799_acde48001122row0_col2\" class=\"data row0 col2\" >24.95</td>\n",
       "                        <td id=\"T_9fe7d106_68b6_11eb_b799_acde48001122row0_col3\" class=\"data row0 col3\" >4.99</td>\n",
       "                        <td id=\"T_9fe7d106_68b6_11eb_b799_acde48001122row0_col4\" class=\"data row0 col4\" >0.33</td>\n",
       "            </tr>\n",
       "            <tr>\n",
       "                        <th id=\"T_9fe7d106_68b6_11eb_b799_acde48001122level0_row1\" class=\"row_heading level0 row1\" >Ceftamin</th>\n",
       "                        <td id=\"T_9fe7d106_68b6_11eb_b799_acde48001122row1_col0\" class=\"data row1 col0\" >52.59</td>\n",
       "                        <td id=\"T_9fe7d106_68b6_11eb_b799_acde48001122row1_col1\" class=\"data row1 col1\" >51.78</td>\n",
       "                        <td id=\"T_9fe7d106_68b6_11eb_b799_acde48001122row1_col2\" class=\"data row1 col2\" >39.29</td>\n",
       "                        <td id=\"T_9fe7d106_68b6_11eb_b799_acde48001122row1_col3\" class=\"data row1 col3\" >6.27</td>\n",
       "                        <td id=\"T_9fe7d106_68b6_11eb_b799_acde48001122row1_col4\" class=\"data row1 col4\" >0.47</td>\n",
       "            </tr>\n",
       "            <tr>\n",
       "                        <th id=\"T_9fe7d106_68b6_11eb_b799_acde48001122level0_row2\" class=\"row_heading level0 row2\" >Infubinol</th>\n",
       "                        <td id=\"T_9fe7d106_68b6_11eb_b799_acde48001122row2_col0\" class=\"data row2 col0\" >52.88</td>\n",
       "                        <td id=\"T_9fe7d106_68b6_11eb_b799_acde48001122row2_col1\" class=\"data row2 col1\" >51.82</td>\n",
       "                        <td id=\"T_9fe7d106_68b6_11eb_b799_acde48001122row2_col2\" class=\"data row2 col2\" >43.13</td>\n",
       "                        <td id=\"T_9fe7d106_68b6_11eb_b799_acde48001122row2_col3\" class=\"data row2 col3\" >6.57</td>\n",
       "                        <td id=\"T_9fe7d106_68b6_11eb_b799_acde48001122row2_col4\" class=\"data row2 col4\" >0.49</td>\n",
       "            </tr>\n",
       "            <tr>\n",
       "                        <th id=\"T_9fe7d106_68b6_11eb_b799_acde48001122level0_row3\" class=\"row_heading level0 row3\" >Ketapril</th>\n",
       "                        <td id=\"T_9fe7d106_68b6_11eb_b799_acde48001122row3_col0\" class=\"data row3 col0\" >55.24</td>\n",
       "                        <td id=\"T_9fe7d106_68b6_11eb_b799_acde48001122row3_col1\" class=\"data row3 col1\" >53.70</td>\n",
       "                        <td id=\"T_9fe7d106_68b6_11eb_b799_acde48001122row3_col2\" class=\"data row3 col2\" >68.55</td>\n",
       "                        <td id=\"T_9fe7d106_68b6_11eb_b799_acde48001122row3_col3\" class=\"data row3 col3\" >8.28</td>\n",
       "                        <td id=\"T_9fe7d106_68b6_11eb_b799_acde48001122row3_col4\" class=\"data row3 col4\" >0.60</td>\n",
       "            </tr>\n",
       "            <tr>\n",
       "                        <th id=\"T_9fe7d106_68b6_11eb_b799_acde48001122level0_row4\" class=\"row_heading level0 row4\" >Naftisol</th>\n",
       "                        <td id=\"T_9fe7d106_68b6_11eb_b799_acde48001122row4_col0\" class=\"data row4 col0\" >54.33</td>\n",
       "                        <td id=\"T_9fe7d106_68b6_11eb_b799_acde48001122row4_col1\" class=\"data row4 col1\" >52.51</td>\n",
       "                        <td id=\"T_9fe7d106_68b6_11eb_b799_acde48001122row4_col2\" class=\"data row4 col2\" >66.17</td>\n",
       "                        <td id=\"T_9fe7d106_68b6_11eb_b799_acde48001122row4_col3\" class=\"data row4 col3\" >8.13</td>\n",
       "                        <td id=\"T_9fe7d106_68b6_11eb_b799_acde48001122row4_col4\" class=\"data row4 col4\" >0.60</td>\n",
       "            </tr>\n",
       "            <tr>\n",
       "                        <th id=\"T_9fe7d106_68b6_11eb_b799_acde48001122level0_row5\" class=\"row_heading level0 row5\" >Placebo</th>\n",
       "                        <td id=\"T_9fe7d106_68b6_11eb_b799_acde48001122row5_col0\" class=\"data row5 col0\" >54.03</td>\n",
       "                        <td id=\"T_9fe7d106_68b6_11eb_b799_acde48001122row5_col1\" class=\"data row5 col1\" >52.29</td>\n",
       "                        <td id=\"T_9fe7d106_68b6_11eb_b799_acde48001122row5_col2\" class=\"data row5 col2\" >61.17</td>\n",
       "                        <td id=\"T_9fe7d106_68b6_11eb_b799_acde48001122row5_col3\" class=\"data row5 col3\" >7.82</td>\n",
       "                        <td id=\"T_9fe7d106_68b6_11eb_b799_acde48001122row5_col4\" class=\"data row5 col4\" >0.58</td>\n",
       "            </tr>\n",
       "            <tr>\n",
       "                        <th id=\"T_9fe7d106_68b6_11eb_b799_acde48001122level0_row6\" class=\"row_heading level0 row6\" >Propriva</th>\n",
       "                        <td id=\"T_9fe7d106_68b6_11eb_b799_acde48001122row6_col0\" class=\"data row6 col0\" >52.32</td>\n",
       "                        <td id=\"T_9fe7d106_68b6_11eb_b799_acde48001122row6_col1\" class=\"data row6 col1\" >50.45</td>\n",
       "                        <td id=\"T_9fe7d106_68b6_11eb_b799_acde48001122row6_col2\" class=\"data row6 col2\" >43.85</td>\n",
       "                        <td id=\"T_9fe7d106_68b6_11eb_b799_acde48001122row6_col3\" class=\"data row6 col3\" >6.62</td>\n",
       "                        <td id=\"T_9fe7d106_68b6_11eb_b799_acde48001122row6_col4\" class=\"data row6 col4\" >0.54</td>\n",
       "            </tr>\n",
       "            <tr>\n",
       "                        <th id=\"T_9fe7d106_68b6_11eb_b799_acde48001122level0_row7\" class=\"row_heading level0 row7\" >Ramicane</th>\n",
       "                        <td id=\"T_9fe7d106_68b6_11eb_b799_acde48001122row7_col0\" class=\"data row7 col0\" >40.22</td>\n",
       "                        <td id=\"T_9fe7d106_68b6_11eb_b799_acde48001122row7_col1\" class=\"data row7 col1\" >40.67</td>\n",
       "                        <td id=\"T_9fe7d106_68b6_11eb_b799_acde48001122row7_col2\" class=\"data row7 col2\" >23.49</td>\n",
       "                        <td id=\"T_9fe7d106_68b6_11eb_b799_acde48001122row7_col3\" class=\"data row7 col3\" >4.85</td>\n",
       "                        <td id=\"T_9fe7d106_68b6_11eb_b799_acde48001122row7_col4\" class=\"data row7 col4\" >0.32</td>\n",
       "            </tr>\n",
       "            <tr>\n",
       "                        <th id=\"T_9fe7d106_68b6_11eb_b799_acde48001122level0_row8\" class=\"row_heading level0 row8\" >Stelasyn</th>\n",
       "                        <td id=\"T_9fe7d106_68b6_11eb_b799_acde48001122row8_col0\" class=\"data row8 col0\" >54.23</td>\n",
       "                        <td id=\"T_9fe7d106_68b6_11eb_b799_acde48001122row8_col1\" class=\"data row8 col1\" >52.43</td>\n",
       "                        <td id=\"T_9fe7d106_68b6_11eb_b799_acde48001122row8_col2\" class=\"data row8 col2\" >59.45</td>\n",
       "                        <td id=\"T_9fe7d106_68b6_11eb_b799_acde48001122row8_col3\" class=\"data row8 col3\" >7.71</td>\n",
       "                        <td id=\"T_9fe7d106_68b6_11eb_b799_acde48001122row8_col4\" class=\"data row8 col4\" >0.57</td>\n",
       "            </tr>\n",
       "            <tr>\n",
       "                        <th id=\"T_9fe7d106_68b6_11eb_b799_acde48001122level0_row9\" class=\"row_heading level0 row9\" >Zoniferol</th>\n",
       "                        <td id=\"T_9fe7d106_68b6_11eb_b799_acde48001122row9_col0\" class=\"data row9 col0\" >53.24</td>\n",
       "                        <td id=\"T_9fe7d106_68b6_11eb_b799_acde48001122row9_col1\" class=\"data row9 col1\" >51.82</td>\n",
       "                        <td id=\"T_9fe7d106_68b6_11eb_b799_acde48001122row9_col2\" class=\"data row9 col2\" >48.53</td>\n",
       "                        <td id=\"T_9fe7d106_68b6_11eb_b799_acde48001122row9_col3\" class=\"data row9 col3\" >6.97</td>\n",
       "                        <td id=\"T_9fe7d106_68b6_11eb_b799_acde48001122row9_col4\" class=\"data row9 col4\" >0.52</td>\n",
       "            </tr>\n",
       "    </tbody></table>"
      ],
      "text/plain": [
       "<pandas.io.formats.style.Styler at 0x7ffcf16bb470>"
      ]
     },
     "execution_count": 12,
     "metadata": {},
     "output_type": "execute_result"
    }
   ],
   "source": [
    "# Generate a summary statistics table of mean, median, variance, standard deviation, and SEM of the tumor volume for each regimen\n",
    "drug_summary_table = pd.DataFrame({ \"Mean of Tumor Volume\": grouped_tumor_mean,\n",
    "                                    \"Median of Tumor Volume\": grouped_tumor_median,\n",
    "                                    \"Variance of Tumor Volume\": grouped_tumor_variance,\n",
    "                                    \"Standard Deviation of Tumor Volume\": grouped_tumor_std,\n",
    "                                    \"SEM of Tumor Volume\": grouped_tumor_sem\n",
    "                                  })\n",
    "\n",
    "# Add in proper notation\n",
    "drug_summary_table = drug_summary_table.style.format({  \"Mean of Tumor Volume\": \"{:,.2f}\",\n",
    "                                                        \"Median of Tumor Volume\": \"{:,.2f}\",\n",
    "                                                        \"Variance of Tumor Volume\": \"{:,.2f}\",\n",
    "                                                        \"Standard Deviation of Tumor Volume\": \"{:,.2f}\",\n",
    "                                                        \"SEM of Tumor Volume\": \"{:,.2f}\"\n",
    "                                                     })\n",
    "drug_summary_table"
   ]
  },
  {
   "cell_type": "markdown",
   "metadata": {},
   "source": [
    "## Bar and Pie Charts"
   ]
  },
  {
   "cell_type": "markdown",
   "metadata": {},
   "source": [
    "### Instructions\n",
    "Generate a bar plot using both Pandas's DataFrame.plot() and Matplotlib's pyplot that shows the total number of measurements taken for each treatment regimen throughout the course of the study.\n",
    "    - NOTE: These plots should look identical.\n",
    "Generate a pie plot using both Pandas's DataFrame.plot() and Matplotlib's pyplot that shows the distribution of female or male mice in the study.\n",
    "    - NOTE: These plots should look identical."
   ]
  },
  {
   "cell_type": "code",
   "execution_count": 13,
   "metadata": {},
   "outputs": [
    {
     "data": {
      "text/plain": [
       "array(['Ramicane', 'Capomulin', 'Infubinol', 'Placebo', 'Ceftamin',\n",
       "       'Stelasyn', 'Zoniferol', 'Ketapril', 'Propriva', 'Naftisol'],\n",
       "      dtype=object)"
      ]
     },
     "execution_count": 13,
     "metadata": {},
     "output_type": "execute_result"
    }
   ],
   "source": [
    "# Get the names of all of the different drug regimens to be used in the x axis\n",
    "drug_regimens = cleaned_mouse_data[\"Drug Regimen\"].unique()\n",
    "drug_regimens"
   ]
  },
  {
   "cell_type": "code",
   "execution_count": 14,
   "metadata": {},
   "outputs": [
    {
     "data": {
      "text/plain": [
       "<matplotlib.axes._subplots.AxesSubplot at 0x7ffcf1910908>"
      ]
     },
     "execution_count": 14,
     "metadata": {},
     "output_type": "execute_result"
    },
    {
     "data": {
      "image/png": "[encoded data removed]",
      "text/plain": [
       "<Figure size 432x288 with 1 Axes>"
      ]
     },
     "metadata": {
      "needs_background": "light"
     },
     "output_type": "display_data"
    }
   ],
   "source": [
    "# Generate a bar plot showing the total number of measurements taken on each drug regimen using pandas.\n",
    "drug_counts = drug_groups[\"Mouse ID\"].count()\n",
    "drug_counts\n",
    "\n",
    "# Give the data frames the values and proper labels using the pandas functionality\n",
    "pandas_regimen_data = pd.DataFrame({\"Drug Regimen\": drug_regimens, \"Times Used\": drug_counts}) \n",
    "\n",
    "# Create the chart using the pandas functionality\n",
    "pandas_regimen_barchart = pandas_regimen_data.plot.bar(x= \"Drug Regimen\", y= \"Times Used\", rot=45)\n",
    "pandas_regimen_barchart\n",
    "\n",
    "# Set labels for axes\n",
    "pandas_regimen_barchart.set_xlabel(\"Drug Regimen\")\n",
    "pandas_regimen_barchart.set_ylabel(\"Number of Data Points\")\n",
    "pandas_regimen_barchart.set_title(\"Number of Data Points for Each Treatment Regimen\")\n",
    "pandas_regimen_barchart"
   ]
  },
  {
   "cell_type": "code",
   "execution_count": 15,
   "metadata": {},
   "outputs": [
    {
     "data": {
      "image/png": "[encoded data removed]",
      "text/plain": [
       "<Figure size 432x288 with 1 Axes>"
      ]
     },
     "metadata": {
      "needs_background": "light"
     },
     "output_type": "display_data"
    }
   ],
   "source": [
    "# Generate a bar plot showing the total number of measurements taken on each drug regimen using pyplot.\n",
    "x_axis = np.arange(0, len(drug_regimens))\n",
    "\n",
    "tick_locations = []\n",
    "\n",
    "for x in x_axis:\n",
    "    tick_locations.append(x)\n",
    "\n",
    "# Create labels for the bar plot\n",
    "plt.title(\"Total Measurements Taken for each Drug Regimen\")\n",
    "plt.xlabel(\"Drug Regimen\")\n",
    "plt.ylabel(\"Number of Measurements Taken\")\n",
    "\n",
    "plt.xlim(-0.75, len(drug_regimens) - 0.25)\n",
    "plt.ylim(0, max(drug_counts) + 15)\n",
    "\n",
    "plt.bar(x_axis, drug_counts, align = \"center\")\n",
    "plt.xticks(tick_locations, drug_regimens, rotation = 45)\n",
    "\n",
    "# Add legend to match above chart visually\n",
    "plt.legend([\"Times Used\"], loc = \"upper center\")\n",
    "\n",
    "# Best practice to always include plt.show\n",
    "# Even though it is not technically needed in jupyter notebooks\n",
    "plt.show()\n"
   ]
  },
  {
   "cell_type": "code",
   "execution_count": 16,
   "metadata": {},
   "outputs": [
    {
     "data": {
      "text/plain": [
       "Text(0, 0.5, '')"
      ]
     },
     "execution_count": 16,
     "metadata": {},
     "output_type": "execute_result"
    },
    {
     "data": {
      "image/png": "[encoded data removed]",
      "text/plain": [
       "<Figure size 432x288 with 1 Axes>"
      ]
     },
     "metadata": {},
     "output_type": "display_data"
    }
   ],
   "source": [
    "# Generate a pie plot showing the distribution of female versus male mice using pandas\n",
    "\n",
    "# Create a groupby to seperate the male and female mice\n",
    "gender_groups = cleaned_mouse_data.groupby(\"Sex\")\n",
    "gender_groups\n",
    "\n",
    "# Determine the values for the pie chart\n",
    "genders = cleaned_mouse_data[\"Sex\"].value_counts()\n",
    "genders\n",
    "\n",
    "# Plot a pie chart filled with corresponding percentages and displayed vertically\n",
    "gender_pie_plot = genders.plot.pie(autopct=\"%1.1f%%\", startangle=90, title = \"Distribution of Female and Male Mice\")\n",
    "\n",
    "# Hide the 'y' label of [\"Sex\"] to clean the look a little bit so it matches the below pie chart\n",
    "gender_pie_plot.set_ylabel('')"
   ]
  },
  {
   "cell_type": "code",
   "execution_count": 17,
   "metadata": {},
   "outputs": [
    {
     "data": {
      "image/png": "[encoded data removed]",
      "text/plain": [
       "<Figure size 432x288 with 1 Axes>"
      ]
     },
     "metadata": {},
     "output_type": "display_data"
    }
   ],
   "source": [
    "# Generate a pie plot showing the distribution of female versus male mice using pyplot\n",
    "# Labels for the sections of our pie chart\n",
    "labels = genders\n",
    "\n",
    "# Determine the values for the pie chart\n",
    "# Same as above\n",
    "genders = cleaned_mouse_data[\"Sex\"].value_counts()\n",
    "genders\n",
    "\n",
    "# Tell matplotlib to create a pie chart filled with corresponding percentages and displayed vertically\n",
    "plt.pie(genders, labels = genders.index.values, autopct=\"%1.1f%%\", startangle=90)\n",
    "plt.title(\"Distribution of Female and Male Mice\")\n",
    "\n",
    "# Display resulting plot\n",
    "plt.show()\n"
   ]
  },
  {
   "cell_type": "markdown",
   "metadata": {},
   "source": [
    "## Quartiles, Outliers and Boxplots"
   ]
  },
  {
   "cell_type": "markdown",
   "metadata": {},
   "source": [
    "### Instructions\n",
    "Calculate the final tumor volume of each mouse across four of the most promising treatment regimens: Capomulin, Ramicane, Infubinol, and Ceftamin. Calculate the quartiles and IQR and quantitatively determine if there are any potential outliers across all four treatment regimens.\n",
    "\n",
    "Using Matplotlib, generate a box and whisker plot of the final tumor volume for all four treatment regimens and highlight any potential outliers in the plot by changing their color and style.\n",
    "    - Hint: All four box plots should be within the same figure. Use this Matplotlib documentation page for help with changing the style of the outliers."
   ]
  },
  {
   "cell_type": "code",
   "execution_count": 18,
   "metadata": {},
   "outputs": [
    {
     "data": {
      "text/html": [
       "<div>\n",
       "<style scoped>\n",
       "    .dataframe tbody tr th:only-of-type {\n",
       "        vertical-align: middle;\n",
       "    }\n",
       "\n",
       "    .dataframe tbody tr th {\n",
       "        vertical-align: top;\n",
       "    }\n",
       "\n",
       "    .dataframe thead th {\n",
       "        text-align: right;\n",
       "    }\n",
       "</style>\n",
       "<table border=\"1\" class=\"dataframe\">\n",
       "  <thead>\n",
       "    <tr style=\"text-align: right;\">\n",
       "      <th></th>\n",
       "      <th>Mouse ID</th>\n",
       "      <th>Drug Regimen</th>\n",
       "      <th>Sex</th>\n",
       "      <th>Age_months</th>\n",
       "      <th>Weight (g)</th>\n",
       "      <th>Timepoint</th>\n",
       "      <th>Tumor Volume (mm3)</th>\n",
       "      <th>Metastatic Sites</th>\n",
       "      <th>Max Timepoint</th>\n",
       "    </tr>\n",
       "  </thead>\n",
       "  <tbody>\n",
       "    <tr>\n",
       "      <th>0</th>\n",
       "      <td>k403</td>\n",
       "      <td>Ramicane</td>\n",
       "      <td>Male</td>\n",
       "      <td>21</td>\n",
       "      <td>16</td>\n",
       "      <td>0</td>\n",
       "      <td>45.000000</td>\n",
       "      <td>0</td>\n",
       "      <td>45</td>\n",
       "    </tr>\n",
       "    <tr>\n",
       "      <th>1</th>\n",
       "      <td>k403</td>\n",
       "      <td>Ramicane</td>\n",
       "      <td>Male</td>\n",
       "      <td>21</td>\n",
       "      <td>16</td>\n",
       "      <td>5</td>\n",
       "      <td>38.825898</td>\n",
       "      <td>0</td>\n",
       "      <td>45</td>\n",
       "    </tr>\n",
       "    <tr>\n",
       "      <th>2</th>\n",
       "      <td>k403</td>\n",
       "      <td>Ramicane</td>\n",
       "      <td>Male</td>\n",
       "      <td>21</td>\n",
       "      <td>16</td>\n",
       "      <td>10</td>\n",
       "      <td>35.014271</td>\n",
       "      <td>1</td>\n",
       "      <td>45</td>\n",
       "    </tr>\n",
       "    <tr>\n",
       "      <th>3</th>\n",
       "      <td>k403</td>\n",
       "      <td>Ramicane</td>\n",
       "      <td>Male</td>\n",
       "      <td>21</td>\n",
       "      <td>16</td>\n",
       "      <td>15</td>\n",
       "      <td>34.223992</td>\n",
       "      <td>1</td>\n",
       "      <td>45</td>\n",
       "    </tr>\n",
       "    <tr>\n",
       "      <th>4</th>\n",
       "      <td>k403</td>\n",
       "      <td>Ramicane</td>\n",
       "      <td>Male</td>\n",
       "      <td>21</td>\n",
       "      <td>16</td>\n",
       "      <td>20</td>\n",
       "      <td>32.997729</td>\n",
       "      <td>1</td>\n",
       "      <td>45</td>\n",
       "    </tr>\n",
       "  </tbody>\n",
       "</table>\n",
       "</div>"
      ],
      "text/plain": [
       "  Mouse ID Drug Regimen   Sex  Age_months  Weight (g)  Timepoint  \\\n",
       "0     k403     Ramicane  Male          21          16          0   \n",
       "1     k403     Ramicane  Male          21          16          5   \n",
       "2     k403     Ramicane  Male          21          16         10   \n",
       "3     k403     Ramicane  Male          21          16         15   \n",
       "4     k403     Ramicane  Male          21          16         20   \n",
       "\n",
       "   Tumor Volume (mm3)  Metastatic Sites  Max Timepoint  \n",
       "0           45.000000                 0             45  \n",
       "1           38.825898                 0             45  \n",
       "2           35.014271                 1             45  \n",
       "3           34.223992                 1             45  \n",
       "4           32.997729                 1             45  "
      ]
     },
     "execution_count": 18,
     "metadata": {},
     "output_type": "execute_result"
    }
   ],
   "source": [
    "# Calculate the final tumor volume of each mouse across four of the treatment regimens:  \n",
    "# Capomulin, Ramicane, Infubinol, and Ceftamin\n",
    "select_drugs = [\"Capomulin\", \"Ramicane\", \"Infubinol\", \"Ceftamin\"]\n",
    "\n",
    "# Start by getting the last (greatest) timepoint for each mouse\n",
    "# Use a groupby to look at each unique mouse ID\n",
    "mouse_group = cleaned_mouse_data.groupby(\"Mouse ID\")\n",
    "mouse_group\n",
    "\n",
    "# Find the max value for each mouse in the Timepoint column and store that value as the last/greatest Timepoint value\n",
    "max_time = pd.DataFrame(mouse_group[\"Timepoint\"].max())\n",
    "max_time\n",
    "# Rename the column to Max Timepoint so that it can be merged\n",
    "max_time = max_time.rename(columns = {\"Timepoint\": \"Max Timepoint\"})\n",
    "\n",
    "# Merge this group df with the original dataframe to get the tumor volume at the last timepoint\n",
    "#Storing this value in the new column called \"Max Timepoint\"\n",
    "max_mouse_data = pd.merge(cleaned_mouse_data, max_time, on = \"Mouse ID\")\n",
    "max_mouse_data.head()"
   ]
  },
  {
   "cell_type": "code",
   "execution_count": 19,
   "metadata": {},
   "outputs": [
    {
     "name": "stdout",
     "output_type": "stream",
     "text": [
      "IQR for Capomulin: 7.781863460000004\n",
      "Lower bound for Capomulin: 20.70456164999999\n",
      "Upper bound for Capomulin: 51.83201549\n",
      "Number of Capomulin outliers: 0\n",
      "IQR for Ramicane: 9.098536719999998\n",
      "Lower bound for Ramicane: 17.912664470000003\n",
      "Upper bound for Ramicane: 54.30681135\n",
      "Number of Ramicane outliers: 0\n",
      "IQR for Infubinol: 11.477135160000003\n",
      "Lower bound for Infubinol: 36.83290494999999\n",
      "Upper bound for Infubinol: 82.74144559000001\n",
      "Number of Infubinol outliers: 1\n",
      "IQR for Ceftamin: 15.577752179999997\n",
      "Lower bound for Ceftamin: 25.355449580000002\n",
      "Upper bound for Ceftamin: 87.66645829999999\n",
      "Number of Ceftamin outliers: 0\n"
     ]
    }
   ],
   "source": [
    "# Put treatments into a list for for loop (and later for plot labels)\n",
    "# Did this in the previous cell, it is the value below\n",
    "select_drugs\n",
    "#print(select_drugs)\n",
    "\n",
    "# Create empty list to fill with tumor vol data (for plotting)\n",
    "select_drugs_data = []\n",
    "\n",
    "# Calculate the IQR and quantitatively determine if there are any potential outliers. \n",
    "for drug in select_drugs:\n",
    "    \n",
    "    # Locate the rows which contain mice on each drug and get the tumor volumes\n",
    "    select_drugs_df = max_mouse_data.loc[max_mouse_data[\"Drug Regimen\"] == drug]\n",
    "    select_drugs_df\n",
    "    \n",
    "    # add subset\n",
    "    # Dataframe that will only look at the max timepoints, set them equal to the Timepoint column\n",
    "    select_drugs_max_df = select_drugs_df.loc[select_drugs_df[\"Timepoint\"] == select_drugs_df[\"Max Timepoint\"]]\n",
    "    \n",
    "    # Append the select_drugs_data list with the max values tumor volume\n",
    "    tumor_vol_at_max = select_drugs_max_df[\"Tumor Volume (mm3)\"]\n",
    "    select_drugs_data.append(tumor_vol_at_max)\n",
    "    \n",
    "    # Determine outliers using upper and lower bounds\n",
    "    quartiles = tumor_vol_at_max.quantile([.25,.5,.75])\n",
    "    lowerq = quartiles[0.25]\n",
    "    upperq = quartiles[0.75]\n",
    "    iqr = upperq-lowerq\n",
    "    print(f\"IQR for {drug}: {iqr}\")\n",
    "    \n",
    "    # Find upper and lower bounds to help identify outliers for each regimen\n",
    "    lower_bound = lowerq - (1.5*iqr)\n",
    "    upper_bound = upperq + (1.5*iqr)\n",
    "    print(f\"Lower bound for {drug}: {lower_bound}\")\n",
    "    print(f\"Upper bound for {drug}: {upper_bound}\")\n",
    "    \n",
    "    \n",
    "    # Check for outliers by seeing if there are any values that fall outside of the upper and lower bounds\n",
    "    # Using the \"|\" straight line symbol as it allows me to check to conditions (upper and lower)\n",
    "    potential_outliers = (tumor_vol_at_max.loc[(select_drugs_df[\"Tumor Volume (mm3)\"] >= upper_bound) |\n",
    "                                                (select_drugs_df[\"Tumor Volume (mm3)\"] <= lower_bound)])\n",
    "    # Get the count of outliers per drug\n",
    "    outliers_count = potential_outliers.count()\n",
    "    print(f\"Number of {drug} outliers: {outliers_count}\")"
   ]
  },
  {
   "cell_type": "code",
   "execution_count": 20,
   "metadata": {},
   "outputs": [
    {
     "data": {
      "image/png": "[encoded data removed]",
      "text/plain": [
       "<Figure size 432x288 with 1 Axes>"
      ]
     },
     "metadata": {
      "needs_background": "light"
     },
     "output_type": "display_data"
    }
   ],
   "source": [
    "# Generate a box plot of the final tumor volume of each mouse across four regimens of interest\n",
    "\n",
    "# Change outlier color to make it more noticable\n",
    "flierprops = dict(marker = \"o\", markerfacecolor = \"r\", markersize = 8, markeredgecolor = \"black\")\n",
    "\n",
    "# Plot boxplot using plt function\n",
    "plt.boxplot(select_drugs_data, flierprops = flierprops)\n",
    "\n",
    "# Add title and labels to boxplot\n",
    "plt.title(\"Final Tumor Volume by Drug\")\n",
    "plt.ylabel(\"Final Tumor Volume (mm3)\")\n",
    "plt.xticks([1, 2, 3, 4], select_drugs)\n",
    "\n",
    "# Display the plot\n",
    "plt.show()"
   ]
  },
  {
   "cell_type": "markdown",
   "metadata": {},
   "source": [
    "## Line and Scatter Plots"
   ]
  },
  {
   "cell_type": "markdown",
   "metadata": {},
   "source": [
    "### Instructions\n",
    "Select a mouse that was treated with Capomulin and generate a line plot of tumor volume vs. time point for that mouse.\n",
    "\n",
    "Generate a scatter plot of tumor volume versus mouse weight for the Capomulin treatment regimen."
   ]
  },
  {
   "cell_type": "code",
   "execution_count": 21,
   "metadata": {},
   "outputs": [
    {
     "data": {
      "text/html": [
       "<div>\n",
       "<style scoped>\n",
       "    .dataframe tbody tr th:only-of-type {\n",
       "        vertical-align: middle;\n",
       "    }\n",
       "\n",
       "    .dataframe tbody tr th {\n",
       "        vertical-align: top;\n",
       "    }\n",
       "\n",
       "    .dataframe thead th {\n",
       "        text-align: right;\n",
       "    }\n",
       "</style>\n",
       "<table border=\"1\" class=\"dataframe\">\n",
       "  <thead>\n",
       "    <tr style=\"text-align: right;\">\n",
       "      <th></th>\n",
       "      <th>Mouse ID</th>\n",
       "      <th>Drug Regimen</th>\n",
       "      <th>Sex</th>\n",
       "      <th>Age_months</th>\n",
       "      <th>Weight (g)</th>\n",
       "      <th>Timepoint</th>\n",
       "      <th>Tumor Volume (mm3)</th>\n",
       "      <th>Metastatic Sites</th>\n",
       "    </tr>\n",
       "  </thead>\n",
       "  <tbody>\n",
       "    <tr>\n",
       "      <th>10</th>\n",
       "      <td>s185</td>\n",
       "      <td>Capomulin</td>\n",
       "      <td>Female</td>\n",
       "      <td>3</td>\n",
       "      <td>17</td>\n",
       "      <td>0</td>\n",
       "      <td>45.000000</td>\n",
       "      <td>0</td>\n",
       "    </tr>\n",
       "    <tr>\n",
       "      <th>11</th>\n",
       "      <td>s185</td>\n",
       "      <td>Capomulin</td>\n",
       "      <td>Female</td>\n",
       "      <td>3</td>\n",
       "      <td>17</td>\n",
       "      <td>5</td>\n",
       "      <td>43.878496</td>\n",
       "      <td>0</td>\n",
       "    </tr>\n",
       "    <tr>\n",
       "      <th>12</th>\n",
       "      <td>s185</td>\n",
       "      <td>Capomulin</td>\n",
       "      <td>Female</td>\n",
       "      <td>3</td>\n",
       "      <td>17</td>\n",
       "      <td>10</td>\n",
       "      <td>37.614948</td>\n",
       "      <td>0</td>\n",
       "    </tr>\n",
       "    <tr>\n",
       "      <th>13</th>\n",
       "      <td>s185</td>\n",
       "      <td>Capomulin</td>\n",
       "      <td>Female</td>\n",
       "      <td>3</td>\n",
       "      <td>17</td>\n",
       "      <td>15</td>\n",
       "      <td>38.177232</td>\n",
       "      <td>0</td>\n",
       "    </tr>\n",
       "    <tr>\n",
       "      <th>14</th>\n",
       "      <td>s185</td>\n",
       "      <td>Capomulin</td>\n",
       "      <td>Female</td>\n",
       "      <td>3</td>\n",
       "      <td>17</td>\n",
       "      <td>20</td>\n",
       "      <td>36.866876</td>\n",
       "      <td>0</td>\n",
       "    </tr>\n",
       "  </tbody>\n",
       "</table>\n",
       "</div>"
      ],
      "text/plain": [
       "   Mouse ID Drug Regimen     Sex  Age_months  Weight (g)  Timepoint  \\\n",
       "10     s185    Capomulin  Female           3          17          0   \n",
       "11     s185    Capomulin  Female           3          17          5   \n",
       "12     s185    Capomulin  Female           3          17         10   \n",
       "13     s185    Capomulin  Female           3          17         15   \n",
       "14     s185    Capomulin  Female           3          17         20   \n",
       "\n",
       "    Tumor Volume (mm3)  Metastatic Sites  \n",
       "10           45.000000                 0  \n",
       "11           43.878496                 0  \n",
       "12           37.614948                 0  \n",
       "13           38.177232                 0  \n",
       "14           36.866876                 0  "
      ]
     },
     "execution_count": 21,
     "metadata": {},
     "output_type": "execute_result"
    }
   ],
   "source": [
    "# Generate a line plot of tumor volume vs. time point for a mouse treated with Capomulin\n",
    "# Find a mouse that was treated with Capomulin\n",
    "cap_mouse = cleaned_mouse_data.loc[cleaned_mouse_data[\"Drug Regimen\"] == \"Capomulin\"]\n",
    "cap_mouse.head()\n",
    "\n",
    "# Mouse (s185) was the first result so updated the df to only include mouse s185\n",
    "cap_mouse = cap_mouse.loc[cap_mouse[\"Mouse ID\"] == \"s185\"]\n",
    "cap_mouse.head()"
   ]
  },
  {
   "cell_type": "code",
   "execution_count": 22,
   "metadata": {},
   "outputs": [
    {
     "data": {
      "image/png": "[encoded data removed]",
      "text/plain": [
       "<Figure size 432x288 with 1 Axes>"
      ]
     },
     "metadata": {
      "needs_background": "light"
     },
     "output_type": "display_data"
    }
   ],
   "source": [
    "# Generate line plot of tumor volume v time point for mouse s185\n",
    "# Plot a line chart with the time values on the x-axis and the tumor volume values on the y-axis\n",
    "\n",
    "# Use plt function to create the line plot\n",
    "# Adding in circle on each data point to make the chart easier to read\n",
    "plt.plot(cap_mouse['Timepoint'], cap_mouse['Tumor Volume (mm3)'], marker = 'o')\n",
    "\n",
    "# Add labels and title to plot\n",
    "plt.xlabel(\"Timepoint\")\n",
    "plt.ylabel(\"Tumor Volume (mm3)\")\n",
    "plt.title(\"Tumor Volume v Timepoint for Mouse s185\")\n",
    "\n",
    "# Display plot\n",
    "plt.show()"
   ]
  },
  {
   "cell_type": "code",
   "execution_count": 23,
   "metadata": {},
   "outputs": [
    {
     "data": {
      "text/html": [
       "<div>\n",
       "<style scoped>\n",
       "    .dataframe tbody tr th:only-of-type {\n",
       "        vertical-align: middle;\n",
       "    }\n",
       "\n",
       "    .dataframe tbody tr th {\n",
       "        vertical-align: top;\n",
       "    }\n",
       "\n",
       "    .dataframe thead th {\n",
       "        text-align: right;\n",
       "    }\n",
       "</style>\n",
       "<table border=\"1\" class=\"dataframe\">\n",
       "  <thead>\n",
       "    <tr style=\"text-align: right;\">\n",
       "      <th></th>\n",
       "      <th>Weight (g)</th>\n",
       "      <th>Average Tumor</th>\n",
       "    </tr>\n",
       "  </thead>\n",
       "  <tbody>\n",
       "    <tr>\n",
       "      <th>0</th>\n",
       "      <td>17</td>\n",
       "      <td>34.559143</td>\n",
       "    </tr>\n",
       "    <tr>\n",
       "      <th>10</th>\n",
       "      <td>15</td>\n",
       "      <td>36.182040</td>\n",
       "    </tr>\n",
       "    <tr>\n",
       "      <th>20</th>\n",
       "      <td>17</td>\n",
       "      <td>34.847470</td>\n",
       "    </tr>\n",
       "    <tr>\n",
       "      <th>30</th>\n",
       "      <td>17</td>\n",
       "      <td>36.505973</td>\n",
       "    </tr>\n",
       "    <tr>\n",
       "      <th>35</th>\n",
       "      <td>17</td>\n",
       "      <td>39.887495</td>\n",
       "    </tr>\n",
       "  </tbody>\n",
       "</table>\n",
       "</div>"
      ],
      "text/plain": [
       "    Weight (g)  Average Tumor\n",
       "0           17      34.559143\n",
       "10          15      36.182040\n",
       "20          17      34.847470\n",
       "30          17      36.505973\n",
       "35          17      39.887495"
      ]
     },
     "execution_count": 23,
     "metadata": {},
     "output_type": "execute_result"
    }
   ],
   "source": [
    "# Generate a scatter plot of average tumor volume vs. mouse weight for the Capomulin regimen\n",
    "\n",
    "# Create a dataframe that only looks at the Capomulin drug in the \"Drug Regimen\" column\n",
    "capomulin_df = cleaned_mouse_data.loc[cleaned_mouse_data[\"Drug Regimen\"] == \"Capomulin\"]\n",
    "capomulin_df\n",
    "\n",
    "# Use groupby to look at the unique mice IDs that took capomulin\n",
    "capomulin_mice = capomulin_df.groupby('Mouse ID')\n",
    "capomulin_mice\n",
    "\n",
    "# Find average tumor volume for each mouse\n",
    "avg_tumor = pd.DataFrame(mouse_group[\"Tumor Volume (mm3)\"].mean())\n",
    "avg_tumor\n",
    "\n",
    "# Rename the column\n",
    "avg_tumor = avg_tumor.rename(columns = {\"Tumor Volume (mm3)\": \"Average Tumor\"})\n",
    "\n",
    "# Merge average tumor volume onto data_df and drop duplicates\n",
    "capomulin_mice = pd.merge(capomulin_df, avg_tumor, on = \"Mouse ID\")\n",
    "capomulin_mice\n",
    "\n",
    "# Drop and duplicated values\n",
    "cleaned_capomulin_mice = capomulin_mice[[\"Weight (g)\", \"Average Tumor\"]].drop_duplicates()\n",
    "cleaned_capomulin_mice.head()"
   ]
  },
  {
   "cell_type": "code",
   "execution_count": 24,
   "metadata": {},
   "outputs": [
    {
     "data": {
      "image/png": "[encoded data removed]",
      "text/plain": [
       "<Figure size 432x288 with 1 Axes>"
      ]
     },
     "metadata": {
      "needs_background": "light"
     },
     "output_type": "display_data"
    }
   ],
   "source": [
    "# Create a scatter plot based on new dataframe above with circle markers and listed colors\n",
    "plt.scatter(cleaned_capomulin_mice[\"Weight (g)\"], cleaned_capomulin_mice[\"Average Tumor\"])\n",
    "\n",
    "# Add labels and title to plot\n",
    "plt.xlabel(\"Weight (g)\")\n",
    "plt.ylabel(\"Average Tumor Volume (mm3)\")\n",
    "plt.title('Average Tumor Volume by Weight')\n",
    "\n",
    "# Display plot\n",
    "plt.show()"
   ]
  },
  {
   "cell_type": "markdown",
   "metadata": {},
   "source": [
    "## Correlation and Regression"
   ]
  },
  {
   "cell_type": "markdown",
   "metadata": {},
   "source": [
    "### Instructions\n",
    "Calculate the correlation coefficient and linear regression model between mouse weight and average tumor volume for the Capomulin treatment. Plot the linear regression model on top of the previous scatter plot."
   ]
  },
  {
   "cell_type": "code",
   "execution_count": 25,
   "metadata": {},
   "outputs": [
    {
     "name": "stdout",
     "output_type": "stream",
     "text": [
      "y = 0.95x + 21.55\n",
      "The correlation coefficient is: 0.841936342469472\n",
      "The r-squared is: 0.7088568047708721\n"
     ]
    },
    {
     "data": {
      "image/png": "[encoded data removed]",
      "text/plain": [
       "<Figure size 432x288 with 1 Axes>"
      ]
     },
     "metadata": {
      "needs_background": "light"
     },
     "output_type": "display_data"
    }
   ],
   "source": [
    "# Calculate the correlation coefficient and linear regression model \n",
    "# for mouse weight and average tumor volume for the Capomulin regimen\n",
    "\n",
    "# Set x and y values for easier readability in the code\n",
    "x_values = cleaned_capomulin_mice[\"Weight (g)\"]\n",
    "y_values = cleaned_capomulin_mice[\"Average Tumor\"]\n",
    "\n",
    "# Get the regression values using the scipi stats function\n",
    "(slope, intercept, rvalue, pvalue, stderr) = st.linregress(x_values, y_values)\n",
    "regress_values = x_values * slope + intercept\n",
    "\n",
    "# Set line equation value (y = mx + b)\n",
    "line_eq = \"y = \" + str(round(slope,2)) + \"x + \" + str(round(intercept,2))\n",
    "print(line_eq)\n",
    "\n",
    "# Generate same scatter plot as above\n",
    "plt.scatter(x_values,y_values)\n",
    "\n",
    "# Add the labels and title to match the previous plot\n",
    "plt.xlabel(\"Weight (g)\")\n",
    "plt.ylabel(\"Average Tumor Volume (mm3)\")\n",
    "plt.title('Average Tumor Volume by Weight')\n",
    "\n",
    "# Plot the regression line on the chart\n",
    "plt.plot(x_values,regress_values,\"r-\")\n",
    "plt.annotate(line_eq,(19,37), fontsize = 15,color = \"red\")\n",
    "\n",
    "# Identify the correlation coefficient and r-squared values for the data\n",
    "print(f\"The correlation coefficient is: {rvalue}\")\n",
    "print(f\"The r-squared is: {rvalue**2}\")\n",
    "\n",
    "plt.show()"
   ]
  },
  {
   "cell_type": "code",
   "execution_count": null,
   "metadata": {},
   "outputs": [],
   "source": []
  }
 ],
 "metadata": {
  "anaconda-cloud": {},
  "kernelspec": {
   "display_name": "Python 3",
   "language": "python",
   "name": "python3"
  },
  "language_info": {
   "codemirror_mode": {
    "name": "ipython",
    "version": 3
   },
   "file_extension": ".py",
   "mimetype": "text/x-python",
   "name": "python",
   "nbconvert_exporter": "python",
   "pygments_lexer": "ipython3",
   "version": "3.6.10"
  }
 },
 "nbformat": 4,
 "nbformat_minor": 4
}
